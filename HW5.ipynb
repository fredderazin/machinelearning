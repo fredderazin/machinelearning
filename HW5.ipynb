{
 "cells": [
  {
   "cell_type": "code",
   "execution_count": 6,
   "metadata": {},
   "outputs": [
    {
     "name": "stdout",
     "output_type": "stream",
     "text": [
      "This is Xs_train value \n",
      " [[0.5   0.   ]\n",
      " [0.75  0.2  ]\n",
      " [0.    0.8  ]\n",
      " [0.375 1.   ]\n",
      " [1.    0.6  ]\n",
      " [0.25  0.1  ]]\n",
      "\n",
      "This is Xs_val \n",
      " [[0.375 0.5  ]\n",
      " [0.25  0.3  ]\n",
      " [1.25  0.   ]\n",
      " [0.625 0.1  ]]\n",
      "\n",
      "This is Xs_test \n",
      " [[ 0.125  0.1  ]\n",
      " [-0.125  1.   ]\n",
      " [ 0.25  -0.3  ]\n",
      " [ 0.875  0.9  ]]\n"
     ]
    }
   ],
   "source": [
    "import numpy as np\n",
    "from sklearn.model_selection import train_test_split\n",
    "from sklearn.preprocessing import PolynomialFeatures, OneHotEncoder, MinMaxScaler\n",
    "import matplotlib.pyplot as plt\n",
    "\n",
    "#Problem 1\n",
    "X_train = [[6,15],[8,17],[2,23],[5,25],[10,21],[4,16]]\n",
    "X_val = [[5,20],[4,18],[12,15],[7,16]]\n",
    "X_test = [[3,16],[1,25],[4,12],[9,24]]\n",
    "scaler = MinMaxScaler()\n",
    "scaler.fit(X_train)\n",
    "Xs_train = scaler.transform(X_train)\n",
    "Xs_val = scaler.transform(X_val)\n",
    "Xs_test = scaler.transform(X_test)\n",
    "\n",
    "print('This is Xs_train value \\n', Xs_train)\n",
    "print('')\n",
    "print('This is Xs_val \\n', Xs_val)\n",
    "print('')\n",
    "print('This is Xs_test \\n', Xs_test)"
   ]
  },
  {
   "cell_type": "code",
   "execution_count": 7,
   "metadata": {},
   "outputs": [
    {
     "name": "stdout",
     "output_type": "stream",
     "text": [
      "Linear Regression or SSE 9.22000000000001\n",
      "Ridge Regression or L1 =  50.900000000000006\n",
      "Lasso Regression or L2=  17.820000000000007\n",
      "\n",
      "\n",
      "This is the second row of y_hat, true values, and betas\n",
      "Linear Regression or SSE 11.069999999999986\n",
      "Ridge Regression or L1 =  44.72999999999998\n",
      "Lasso Regression or L1=  15.969999999999985\n",
      "\n",
      "\n",
      "This is the third row of y_hat, true values, and betas\n",
      "Linear Regression or SSE 11.629999999999995\n",
      "Ridge Regression or L2 =  34.14999999999999\n",
      "Lasso Regression or L2=  16.629999999999995\n"
     ]
    }
   ],
   "source": [
    "#First Row\n",
    "#Linear Regresion = SSE = sum(y_hat - y)**2\n",
    "SSE = (8.1 - 9.8)**2 + (12.9 - 12.1)**2 + (13.8 - 14.6)**2 + (17.6 - 15.7)**2 + (18.3 - 19.5)**2\n",
    "print('Linear Regression or SSE', SSE)\n",
    "\n",
    "#Ridge Regression = SSE + alpha*sum(betas)**2\n",
    "alpha = 0.5\n",
    "L1 = SSE + alpha * ((6)**2 + (5.6)**2 + (-3.2)**2 + (2.4)**2)\n",
    "print('Ridge Regression or L1 = ', L1)\n",
    "\n",
    "#Lasso Regression = SSE + alpha*sum|betas|)\n",
    "alpha = 0.5\n",
    "L2 = SSE + alpha * (6 + 5.6 + 3.2 + 2.4)\n",
    "print('Lasso Regression or L2= ', L2)\n",
    "\n",
    "print('')\n",
    "print('')\n",
    "\n",
    "#____________________________________________________________\n",
    "print('This is the second row of y_hat, true values, and betas')\n",
    "#Second Row\n",
    "#Linear Regresion = SSE = sum(y_hat - y)**2\n",
    "SSE1 = (9.5 - 9.8)**2 + (9.8 - 12.1)**2 + (16.4 - 14.6)**2 + (16.4 - 15.7)**2 + (18.1 - 19.5)**2\n",
    "print('Linear Regression or SSE', SSE1)\n",
    "\n",
    "#Ridge Regression = SSE + alpha*sum(betas)**2\n",
    "alpha = 0.5\n",
    "L1 = SSE1 + alpha * ((7)**2 + (3.2)**2 + (-2.2)**2 + (1.8)**2)\n",
    "print('Ridge Regression or L1 = ', L1)\n",
    "\n",
    "#Lasso Regression = SSE + alpha*sum|betas|)\n",
    "alpha = 0.5\n",
    "L1 = SSE1 + alpha * (7 + 3.2 + (-2.2) + 1.8)\n",
    "print('Lasso Regression or L1= ', L1)\n",
    "\n",
    "print('')\n",
    "print('')\n",
    "\n",
    "#____________________________________________________________\n",
    "print('This is the third row of y_hat, true values, and betas')\n",
    "#Third Row\n",
    "#Linear Regresion = SSE = sum(y_hat - y)**2\n",
    "SSE2 = (11.8 - 9.8)**2 + (11.7 - 12.1)**2 + (16.5 - 14.6)**2 + (15.2 - 15.7)**2 + (17.6 - 19.5)**2\n",
    "print('Linear Regression or SSE', SSE2)\n",
    "\n",
    "#Ridge Regression = SSE + alpha*sum(betas)**2\n",
    "alpha = 0.5\n",
    "L2 = SSE2 + alpha * ((5)**2 + (4.4)**2 + (-0.2)**2 + (0.8)**2)\n",
    "print('Ridge Regression or L2 = ', L2)\n",
    "\n",
    "#Lasso Regression = SSE + alpha*sum|betas|)\n",
    "alpha = 0.5\n",
    "L2 = SSE2 + alpha * (5 + 4.4 + (-0.2) + 0.8)\n",
    "print('Lasso Regression or L2= ', L2)"
   ]
  },
  {
   "cell_type": "code",
   "execution_count": null,
   "metadata": {},
   "outputs": [],
   "source": []
  }
 ],
 "metadata": {
  "kernelspec": {
   "display_name": "Python 3",
   "language": "python",
   "name": "python3"
  },
  "language_info": {
   "codemirror_mode": {
    "name": "ipython",
    "version": 3
   },
   "file_extension": ".py",
   "mimetype": "text/x-python",
   "name": "python",
   "nbconvert_exporter": "python",
   "pygments_lexer": "ipython3",
   "version": "3.8.5"
  }
 },
 "nbformat": 4,
 "nbformat_minor": 4
}
