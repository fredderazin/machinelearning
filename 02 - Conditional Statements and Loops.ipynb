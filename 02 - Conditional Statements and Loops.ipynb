{
 "cells": [
  {
   "cell_type": "markdown",
   "metadata": {},
   "source": [
    "# Tutorial 02 - Conditional Statements and Loops\n",
    "\n",
    "### The following topics are discussed in this notebook:\n",
    "* Conditional statements\n",
    "* For and while loops\n",
    "\n",
    "### Additional Resources\n",
    "* Chapters 03, 05, 07, and 15  of **Think Python**.\n",
    "* [DataCamp: Intermediate Python for Data Science](https://www.datacamp.com/courses/intermediate-python-for-data-science)\n",
    "* [DataCamp: Python Data Science Toolbox (Part 1)](https://www.datacamp.com/courses/python-data-science-toolbox-part-1)\n",
    "\n"
   ]
  },
  {
   "cell_type": "markdown",
   "metadata": {},
   "source": [
    "## Conditional Statements"
   ]
  },
  {
   "cell_type": "code",
   "execution_count": 1,
   "metadata": {},
   "outputs": [
    {
     "name": "stdout",
     "output_type": "stream",
     "text": [
      "Medium\n"
     ]
    }
   ],
   "source": [
    "x = 17\n",
    "\n",
    "if x < 10:\n",
    "    print('Low')\n",
    "elif x < 20:\n",
    "    print('Medium')\n",
    "else:\n",
    "    print('High')"
   ]
  },
  {
   "cell_type": "markdown",
   "metadata": {},
   "source": [
    "## For Loops"
   ]
  },
  {
   "cell_type": "code",
   "execution_count": 2,
   "metadata": {},
   "outputs": [
    {
     "name": "stdout",
     "output_type": "stream",
     "text": [
      "The square of 1 is 1 .\n",
      "The square of 2 is 4 .\n",
      "The square of 3 is 9 .\n",
      "The square of 4 is 16 .\n",
      "The square of 5 is 25 .\n"
     ]
    }
   ],
   "source": [
    "for i in range(1,6):\n",
    "    print(\"The square of\", i, \"is\", i**2, \".\")\n",
    "    #print(\"The square of \" + str(i) + \" is \" + str(i**2) + \".\")"
   ]
  },
  {
   "cell_type": "code",
   "execution_count": 3,
   "metadata": {
    "scrolled": true
   },
   "outputs": [
    {
     "name": "stdout",
     "output_type": "stream",
     "text": [
      "[6, 8, 9, 5]\n"
     ]
    }
   ],
   "source": [
    "list_a = [4, 7, 3, 2]\n",
    "list_b = [2, 1, 6, 3]\n",
    "list_sum = []\n",
    "\n",
    "for i in range(0, len(list_a)):\n",
    "    list_sum.append(list_a[i] + list_b[i])\n",
    "    \n",
    "print(list_sum)"
   ]
  },
  {
   "cell_type": "code",
   "execution_count": 4,
   "metadata": {
    "scrolled": false
   },
   "outputs": [
    {
     "name": "stdout",
     "output_type": "stream",
     "text": [
      "[16, 49, 9, 4]\n"
     ]
    }
   ],
   "source": [
    "list_a_squared = []\n",
    "for element in list_a:\n",
    "    list_a_squared.append(element**2)\n",
    "    \n",
    "print(list_a_squared)"
   ]
  },
  {
   "cell_type": "markdown",
   "metadata": {},
   "source": [
    "## Ranges"
   ]
  },
  {
   "cell_type": "code",
   "execution_count": 5,
   "metadata": {},
   "outputs": [
    {
     "name": "stdout",
     "output_type": "stream",
     "text": [
      "range(0, 8)\n",
      "<class 'range'>\n"
     ]
    }
   ],
   "source": [
    "rng = range(0,8)\n",
    "print(rng)\n",
    "print(type(rng))"
   ]
  },
  {
   "cell_type": "code",
   "execution_count": 6,
   "metadata": {
    "scrolled": true
   },
   "outputs": [
    {
     "name": "stdout",
     "output_type": "stream",
     "text": [
      "[0, 1, 2, 3, 4, 5, 6, 7]\n"
     ]
    }
   ],
   "source": [
    "list0to7 = list(rng)\n",
    "print(list0to7)"
   ]
  },
  {
   "cell_type": "code",
   "execution_count": 7,
   "metadata": {},
   "outputs": [
    {
     "name": "stdout",
     "output_type": "stream",
     "text": [
      "[0, 1, 2, 3, 4, 5, 6, 7, 8, 9, 10]\n"
     ]
    }
   ],
   "source": [
    "print(list(range(11)))"
   ]
  },
  {
   "cell_type": "markdown",
   "metadata": {},
   "source": [
    "## While Loops"
   ]
  },
  {
   "cell_type": "markdown",
   "metadata": {},
   "source": [
    "The code in the cell below calculates every Fibonacci number less than 1000."
   ]
  },
  {
   "cell_type": "code",
   "execution_count": 8,
   "metadata": {},
   "outputs": [
    {
     "name": "stdout",
     "output_type": "stream",
     "text": [
      "[0, 1, 1, 2, 3, 5, 8, 13, 21, 34, 55, 89, 144, 233, 377, 610, 987]\n"
     ]
    }
   ],
   "source": [
    "fib = [0, 1]\n",
    "temp = fib[-1] + fib[-2]\n",
    "\n",
    "while  temp < 1000:\n",
    "    fib.append(temp)\n",
    "    temp = fib[-1] + fib[-2]\n",
    "    \n",
    "print(fib)"
   ]
  },
  {
   "cell_type": "markdown",
   "metadata": {},
   "source": [
    "The code in the cell below finds all factors of the integer 14,267,352."
   ]
  },
  {
   "cell_type": "code",
   "execution_count": 9,
   "metadata": {},
   "outputs": [
    {
     "name": "stdout",
     "output_type": "stream",
     "text": [
      "[2, 2, 2, 3, 11, 11, 17, 17, 17]\n"
     ]
    }
   ],
   "source": [
    "x = 14267352\n",
    "divisor = 2\n",
    "factors = []\n",
    "\n",
    "while(x > 1):\n",
    "    while(x % divisor == 0):\n",
    "        x = x / divisor\n",
    "        factors.append(divisor)    \n",
    "    divisor += 1\n",
    "    \n",
    "print(factors)"
   ]
  },
  {
   "cell_type": "markdown",
   "metadata": {},
   "source": [
    "In the next example, approximate pi using the following series:\n",
    "\n",
    "$\\pi = 4 - \\frac{4}{3} + \\frac{4}{5} - \\frac{4}{7} + \\frac{4}{9} - \\frac{4}{11} +... $.\n"
   ]
  },
  {
   "cell_type": "code",
   "execution_count": 10,
   "metadata": {},
   "outputs": [
    {
     "name": "stdout",
     "output_type": "stream",
     "text": [
      "3.141597653564762\n"
     ]
    }
   ],
   "source": [
    "n = 1\n",
    "pi_approx = 0\n",
    "done = False\n",
    "\n",
    "while(not done):\n",
    "    new_term = 4 / (2*n - 1)\n",
    "    \n",
    "    if n % 2 == 1:\n",
    "        pi_approx += new_term\n",
    "    else:\n",
    "        pi_approx -= new_term\n",
    "        \n",
    "    n += 1\n",
    "    \n",
    "    if new_term < 0.00001:\n",
    "        done = True\n",
    "\n",
    "print(pi_approx)\n"
   ]
  }
 ],
 "metadata": {
  "kernelspec": {
   "display_name": "Python 3",
   "language": "python",
   "name": "python3"
  },
  "language_info": {
   "codemirror_mode": {
    "name": "ipython",
    "version": 3
   },
   "file_extension": ".py",
   "mimetype": "text/x-python",
   "name": "python",
   "nbconvert_exporter": "python",
   "pygments_lexer": "ipython3",
   "version": "3.6.8"
  }
 },
 "nbformat": 4,
 "nbformat_minor": 2
}
