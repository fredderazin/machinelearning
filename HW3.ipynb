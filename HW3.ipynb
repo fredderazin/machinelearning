{
 "cells": [
  {
   "cell_type": "code",
   "execution_count": 14,
   "metadata": {},
   "outputs": [
    {
     "name": "stdout",
     "output_type": "stream",
     "text": [
      "X_preprocessed [[ 1.  3.  9.  0.  1.  0.  0.  1.]\n",
      " [ 1.  1.  1.  1.  0.  0.  1.  0.]\n",
      " [ 1.  0.  0.  1.  0.  0.  0.  1.]\n",
      " [ 1.  2.  4.  1.  0.  1.  0.  0.]\n",
      " [ 1.  4. 16.  0.  1.  1.  0.  0.]\n",
      " [ 1.  2.  4.  1.  0.  0.  1.  0.]]\n",
      "X_cat: [[2, 'S'], [1, 'F'], [1, 'S'], [1, 'D'], [2, 'D'], [1, 'F']]\n"
     ]
    }
   ],
   "source": [
    "from sklearn.preprocessing import PolynomialFeatures, OneHotEncoder\n",
    "import numpy as np\n",
    "\n",
    "X_num = [[3],[1],[0],[2],[4],[2]]\n",
    "X_cat = [[2,'S'],[1,'F'],[1,'S'],[1,'D'],[2,'D'],[1,'F']]\n",
    "\n",
    "poly = PolynomialFeatures(2)\n",
    "Xp = poly.fit_transform(X_num)\n",
    "\n",
    "enc = OneHotEncoder(sparse = False)\n",
    "Xe = enc.fit_transform(X_cat)\n",
    "\n",
    "X_preprocessed = np.hstack((Xp, Xe))\n",
    "\n",
    "\n",
    "print('X_preprocessed', X_preprocessed)\n",
    "print('X_cat:', X_cat)\n"
   ]
  },
  {
   "cell_type": "code",
   "execution_count": null,
   "metadata": {},
   "outputs": [],
   "source": []
  },
  {
   "cell_type": "code",
   "execution_count": null,
   "metadata": {},
   "outputs": [],
   "source": []
  }
 ],
 "metadata": {
  "kernelspec": {
   "display_name": "Python 3",
   "language": "python",
   "name": "python3"
  },
  "language_info": {
   "codemirror_mode": {
    "name": "ipython",
    "version": 3
   },
   "file_extension": ".py",
   "mimetype": "text/x-python",
   "name": "python",
   "nbconvert_exporter": "python",
   "pygments_lexer": "ipython3",
   "version": "3.8.5"
  }
 },
 "nbformat": 4,
 "nbformat_minor": 4
}
