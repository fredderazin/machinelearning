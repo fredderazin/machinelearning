{
 "cells": [
  {
   "cell_type": "markdown",
   "metadata": {},
   "source": [
    "# Tutorial 03 - Functions and Classes\n",
    "\n",
    "### The following topics are discussed in this notebook:\n",
    "* Functions\n",
    "* Classes\n",
    "\n",
    "### Additional Resources\n",
    "* Chapters 03, 05, 07, and 15  of **Think Python**.\n",
    "* [DataCamp: Intermediate Python for Data Science](https://www.datacamp.com/courses/intermediate-python-for-data-science)\n",
    "* [DataCamp: Python Data Science Toolbox (Part 1)](https://www.datacamp.com/courses/python-data-science-toolbox-part-1)\n",
    "\n"
   ]
  },
  {
   "cell_type": "markdown",
   "metadata": {},
   "source": [
    "## Functions"
   ]
  },
  {
   "cell_type": "code",
   "execution_count": 1,
   "metadata": {
    "scrolled": false
   },
   "outputs": [],
   "source": [
    "def add(x, y):\n",
    "    return x + y"
   ]
  },
  {
   "cell_type": "code",
   "execution_count": 2,
   "metadata": {},
   "outputs": [
    {
     "name": "stdout",
     "output_type": "stream",
     "text": [
      "13\n"
     ]
    }
   ],
   "source": [
    "print(add(7,6))"
   ]
  },
  {
   "cell_type": "markdown",
   "metadata": {},
   "source": [
    "We can specify default parameter values in the function declaration."
   ]
  },
  {
   "cell_type": "code",
   "execution_count": 3,
   "metadata": {},
   "outputs": [],
   "source": [
    "def sum_power(arglist, exp=1):\n",
    "    total = 0\n",
    "    for i in range(0, len(arglist)):\n",
    "        total += arglist[i]**exp\n",
    "        \n",
    "    return total "
   ]
  },
  {
   "cell_type": "code",
   "execution_count": 4,
   "metadata": {},
   "outputs": [
    {
     "name": "stdout",
     "output_type": "stream",
     "text": [
      "7\n",
      "21\n",
      "73\n",
      "16513\n"
     ]
    }
   ],
   "source": [
    "my_list = [4,2,1]\n",
    "print(sum_power(my_list))\n",
    "print(sum_power(my_list, 2))\n",
    "print(sum_power(my_list, 3))\n",
    "print(sum_power(my_list, 7))"
   ]
  },
  {
   "cell_type": "markdown",
   "metadata": {},
   "source": [
    "The next cell contains an example of a recursive function. "
   ]
  },
  {
   "cell_type": "code",
   "execution_count": 5,
   "metadata": {},
   "outputs": [],
   "source": [
    "def factorial(n):\n",
    "    if n == 1:\n",
    "        return 1\n",
    "    else: \n",
    "        return n * factorial(n - 1)"
   ]
  },
  {
   "cell_type": "code",
   "execution_count": 6,
   "metadata": {},
   "outputs": [
    {
     "name": "stdout",
     "output_type": "stream",
     "text": [
      "1\n",
      "2\n",
      "6\n",
      "24\n",
      "120\n",
      "720\n",
      "5040\n",
      "40320\n",
      "362880\n"
     ]
    }
   ],
   "source": [
    "for i in range(1, 10):\n",
    "    print(factorial(i))"
   ]
  },
  {
   "cell_type": "markdown",
   "metadata": {},
   "source": [
    "It is possible for a Python function to return multiple values. To do so, simply list all of the values to be returned within the return statement, separated by commas. "
   ]
  },
  {
   "cell_type": "code",
   "execution_count": 7,
   "metadata": {},
   "outputs": [
    {
     "name": "stdout",
     "output_type": "stream",
     "text": [
      "32\n",
      "25\n"
     ]
    }
   ],
   "source": [
    "def power(a,b):\n",
    "    return a**b, b**a\n",
    "\n",
    "a,b = power(2,5)\n",
    "print(a)\n",
    "print(b)"
   ]
  },
  {
   "cell_type": "markdown",
   "metadata": {},
   "source": [
    "## Variable Scope\n",
    "\n",
    "Any variable that is defined outside of a function is called a **global variable** and is said to exist within the **global scope**. Such variables are accessible from within Python functions. Variables defined within a function are **local** to that function. "
   ]
  },
  {
   "cell_type": "code",
   "execution_count": 8,
   "metadata": {},
   "outputs": [],
   "source": [
    "def print_a_and_b():\n",
    "    b = 15\n",
    "    print(a)\n",
    "    print(b)\n",
    "    \n",
    "a = 37"
   ]
  },
  {
   "cell_type": "code",
   "execution_count": 9,
   "metadata": {},
   "outputs": [
    {
     "name": "stdout",
     "output_type": "stream",
     "text": [
      "37\n",
      "15\n"
     ]
    }
   ],
   "source": [
    "print_a_and_b()"
   ]
  },
  {
   "cell_type": "code",
   "execution_count": 10,
   "metadata": {},
   "outputs": [
    {
     "name": "stdout",
     "output_type": "stream",
     "text": [
      "37\n"
     ]
    }
   ],
   "source": [
    "print(a)"
   ]
  },
  {
   "cell_type": "code",
   "execution_count": 11,
   "metadata": {},
   "outputs": [
    {
     "name": "stdout",
     "output_type": "stream",
     "text": [
      "25\n"
     ]
    }
   ],
   "source": [
    "print(b)"
   ]
  },
  {
   "cell_type": "markdown",
   "metadata": {},
   "source": [
    "Although functions can access variables defined within the global scope, they are not generally allowed to alter global variables. "
   ]
  },
  {
   "cell_type": "code",
   "execution_count": 12,
   "metadata": {},
   "outputs": [
    {
     "name": "stdout",
     "output_type": "stream",
     "text": [
      "37\n",
      "50\n",
      "37\n"
     ]
    }
   ],
   "source": [
    "def set_a_v1():\n",
    "    a = 50\n",
    "    return a\n",
    "\n",
    "a = 37\n",
    "print(a)\n",
    "print(set_a_v1())\n",
    "print(a)"
   ]
  },
  {
   "cell_type": "markdown",
   "metadata": {},
   "source": [
    "We can provide a function with permission to alter global variables by including within the function a line consisting of the global keyword followed by the name of a global variable we wish to alter."
   ]
  },
  {
   "cell_type": "code",
   "execution_count": 13,
   "metadata": {},
   "outputs": [
    {
     "name": "stdout",
     "output_type": "stream",
     "text": [
      "37\n",
      "50\n",
      "50\n"
     ]
    }
   ],
   "source": [
    "def set_a_v2():\n",
    "    global a \n",
    "    a = 50\n",
    "    return a\n",
    "\n",
    "a = 37\n",
    "print(a)\n",
    "print(set_a_v2())\n",
    "print(a)"
   ]
  },
  {
   "cell_type": "markdown",
   "metadata": {},
   "source": [
    "## Classses\n",
    "\n",
    "A **class** is essentially a user-defined data type. When we define a class, we create a template that specifies the variables and methods that are contains in each example, or **instance** of the class."
   ]
  },
  {
   "cell_type": "code",
   "execution_count": 14,
   "metadata": {},
   "outputs": [],
   "source": [
    "class Circle: \n",
    "    \n",
    "    def __init__(self, center_x, center_y, radius):\n",
    "        self.center_x = center_x\n",
    "        self.center_y = center_y\n",
    "        self.radius = radius\n",
    "        \n",
    "    def find_area(self):\n",
    "        return 3.14159 * self.radius**2\n",
    "    \n",
    "    def find_circumference(self):\n",
    "        return 2 * 3.14159 * self.radius\n",
    "    \n",
    "    def is_inside(self, x, y):\n",
    "        return (self.center_x - x)**2 + (self.center_y - y)**2 < self.radius**2\n",
    "    "
   ]
  },
  {
   "cell_type": "code",
   "execution_count": 15,
   "metadata": {},
   "outputs": [
    {
     "name": "stdout",
     "output_type": "stream",
     "text": [
      "78.53975\n",
      "31.4159\n",
      "True\n",
      "False\n"
     ]
    }
   ],
   "source": [
    "c1 = Circle(2, 1, 5)\n",
    "\n",
    "print(c1.find_area())\n",
    "print(c1.find_circumference())\n",
    "print(c1.is_inside(4,5))\n",
    "print(c1.is_inside(6,5))"
   ]
  },
  {
   "cell_type": "code",
   "execution_count": 16,
   "metadata": {},
   "outputs": [],
   "source": [
    "class Cat:\n",
    "    \n",
    "    def __init__(self, name, owner, color, age):\n",
    "        self.name = name\n",
    "        self.owner = owner\n",
    "        self.color = color\n",
    "        self.age = age\n",
    "        \n",
    "    def summary(self):\n",
    "        print('Name:', self.name)\n",
    "        print('Owner:', self.owner)\n",
    "        print('Color:', self.color)\n",
    "        print('Age:', self.age, '\\n')"
   ]
  },
  {
   "cell_type": "code",
   "execution_count": 17,
   "metadata": {
    "scrolled": true
   },
   "outputs": [
    {
     "name": "stdout",
     "output_type": "stream",
     "text": [
      "Name: Luna\n",
      "Owner: Katie\n",
      "Color: Black and White\n",
      "Age: 9 \n",
      "\n",
      "Name: Cauchy\n",
      "Owner: Robbie\n",
      "Color: Gray\n",
      "Age: 2 \n",
      "\n"
     ]
    }
   ],
   "source": [
    "this_cat = Cat('Luna', 'Katie', 'Black and White', 9)\n",
    "that_cat = Cat(age=2, color='Gray', name='Cauchy', owner='Robbie')\n",
    "\n",
    "this_cat.summary()\n",
    "that_cat.summary()"
   ]
  },
  {
   "cell_type": "markdown",
   "metadata": {},
   "source": [
    "When implementing a new machine learning algorithm, we will create a new class specifically for that algorithm. Instance of the class will represent models generated by the algorithm, and will contain information relevant to the model, such as:\n",
    "\n",
    "* Training features and labels.\n",
    "* Training objective function scores.\n",
    "* Methods for training the model.\n",
    "* Values of optimal parameters\n",
    "* Methods for making predictions"
   ]
  }
 ],
 "metadata": {
  "kernelspec": {
   "display_name": "Python 3",
   "language": "python",
   "name": "python3"
  },
  "language_info": {
   "codemirror_mode": {
    "name": "ipython",
    "version": 3
   },
   "file_extension": ".py",
   "mimetype": "text/x-python",
   "name": "python",
   "nbconvert_exporter": "python",
   "pygments_lexer": "ipython3",
   "version": "3.6.8"
  }
 },
 "nbformat": 4,
 "nbformat_minor": 2
}
