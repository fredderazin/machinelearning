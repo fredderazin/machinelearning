{
 "cells": [
  {
   "cell_type": "code",
   "execution_count": 2,
   "metadata": {},
   "outputs": [],
   "source": [
    "import numpy as np\n",
    "from sklearn.model_selection import train_test_split\n",
    "from sklearn.preprocessing import PolynomialFeatures, OneHotEncoder, MinMaxScaler\n",
    "import matplotlib.pyplot as plt"
   ]
  },
  {
   "cell_type": "code",
   "execution_count": 8,
   "metadata": {},
   "outputs": [
    {
     "name": "stdout",
     "output_type": "stream",
     "text": [
      "This is X.shape (100, 6)\n",
      "This is X.shape (100,)\n",
      "\n",
      "This is X_tr.shape at 80% of dataset (80, 6)\n",
      "This is X_temp.shape (20, 6)\n",
      "\n",
      "This is X_val.shape (16, 6)\n",
      "This is X_test.shape (4, 6)\n",
      "This is y_val (16,)\n"
     ]
    }
   ],
   "source": [
    "n = 100\n",
    "X = np.ones((n, 6))\n",
    "y = np.ones(n)\n",
    "\n",
    "print('This is X.shape', X.shape)\n",
    "print('This is X.shape', y.shape)\n",
    "print()\n",
    "\n",
    "X_tr, X_temp, y_tr, y_temp = train_test_split(X, y, test_size=0.2, random_state=1)\n",
    "X_val, X_test, y_val, y_test = train_test_split(X_temp, y_temp, test_size=0.2, random_state=1)\n",
    "\n",
    "print('This is X_tr.shape at 80% of dataset', X_tr.shape)\n",
    "print('This is X_temp.shape', X_temp.shape)\n",
    "print()\n",
    "print('This is X_val.shape', X_val.shape)\n",
    "print('This is X_test.shape', X_test.shape)\n",
    "print('This is y_val', y_val.shape)\n",
    "\n",
    "\n"
   ]
  },
  {
   "cell_type": "code",
   "execution_count": 14,
   "metadata": {},
   "outputs": [
    {
     "name": "stdout",
     "output_type": "stream",
     "text": [
      "Precision TP/TP+FP = 0.8\n",
      "Precision TP/TP+FP = 0.7246376811594203\n",
      "Precision TP/TP+FP = 0.8\n",
      "\n",
      "Recall TP/TP+FN = 0.8\n",
      "Recall TP/TP+FN = 0.7246376811594203\n",
      "Recall TP/TP+FN = 0.8\n",
      "\n",
      "Accuary TP + TN / TP+FP+FN+FN+TN =  2.0\n"
     ]
    }
   ],
   "source": [
    "#TP = diagonal values on matrix \n",
    "#FN = the numbers in the rest of the row \n",
    "#FP = the rest of the numbers in the column\n",
    "#Class 0 = [40, 6, 4] \n",
    "#Class 1 = [3, 50, 16] \n",
    "#Class 2 = [7, 13, 80]\n",
    "\n",
    "precision1 = 40/(40+3+7)\n",
    "precision2 = 50/(50+6+13)\n",
    "precision3 = 80/(80+4+16)\n",
    "\n",
    "print('Precision TP/TP+FP =', precision1)\n",
    "print('Precision TP/TP+FP =', precision2)\n",
    "print('Precision TP/TP+FP =', precision3)\n",
    "print('') \n",
    "recall1 = 40/(40+6+4)\n",
    "recall2 = 50/(50+3+16)\n",
    "recall3 = 80/(80+7+13)\n",
    "print('Recall TP/TP+FN =', recall1)\n",
    "print('Recall TP/TP+FN =', recall2) \n",
    "print('Recall TP/TP+FN =', recall3)\n",
    "print('')\n",
    "\n",
    "accuracy_value = 2 * (precision1 + precision2 + precision3) / (recall1 + recall2 + recall3)\n",
    "print('Accuary TP + TN / TP+FP+FN+FN+TN = ', accuracy_value)"
   ]
  },
  {
   "cell_type": "code",
   "execution_count": 18,
   "metadata": {},
   "outputs": [
    {
     "name": "stdout",
     "output_type": "stream",
     "text": [
      "This is X_train \n",
      " [[0.   0.5 ]\n",
      " [0.6  1.  ]\n",
      " [1.   0.75]\n",
      " [0.4  0.  ]]\n",
      "This is X_val \n",
      " [[0.8  0.25]\n",
      " [1.   0.5 ]]\n",
      "This is X_test \n",
      " [[0.4 0.1]\n",
      " [1.4 0. ]]\n"
     ]
    }
   ],
   "source": [
    "X_train = [[2,20],[5,30],[7,25],[4,10]]\n",
    "X_val = [[6,15],[7,20]]\n",
    "X_test = [[4,12],[9,10]]\n",
    "\n",
    "scaler = MinMaxScaler()\n",
    "scaler.fit(X_train)\n",
    "Xs_train = scaler.transform(X_train)\n",
    "Xs_val = scaler.transform(X_val)\n",
    "Xs_test = scaler.transform(X_test)\n",
    "\n",
    "print('This is X_train \\n', Xs_train)\n",
    "print('This is X_val \\n', Xs_val)\n",
    "print('This is X_test \\n', Xs_test)\n"
   ]
  }
 ],
 "metadata": {
  "kernelspec": {
   "display_name": "Python 3",
   "language": "python",
   "name": "python3"
  },
  "language_info": {
   "codemirror_mode": {
    "name": "ipython",
    "version": 3
   },
   "file_extension": ".py",
   "mimetype": "text/x-python",
   "name": "python",
   "nbconvert_exporter": "python",
   "pygments_lexer": "ipython3",
   "version": "3.8.5"
  }
 },
 "nbformat": 4,
 "nbformat_minor": 4
}
