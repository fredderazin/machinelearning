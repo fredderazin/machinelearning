{
 "cells": [
  {
   "cell_type": "markdown",
   "metadata": {},
   "source": [
    "## Homework 01 Supplement\n"
   ]
  },
  {
   "cell_type": "markdown",
   "metadata": {},
   "source": [
    "### Part 1: List Implementation"
   ]
  },
  {
   "cell_type": "markdown",
   "metadata": {},
   "source": [
    "The cells below provide an example of how to use the `insert` method of a list to insert a 1 at the beginning of each of the rows in `X`. Note that we create a copy of each row before we insert the 1, since we do not actually want to change the contents of the original matrix. "
   ]
  },
  {
   "cell_type": "code",
   "execution_count": 1,
   "metadata": {},
   "outputs": [
    {
     "name": "stdout",
     "output_type": "stream",
     "text": [
      "[1, 9, 3, 6, 8, 7]\n",
      "[1, 5, 2, 3, 1, 8]\n",
      "[1, 4, 6, 2, 5, 1]\n"
     ]
    }
   ],
   "source": [
    "X = [[9, 3, 6, 8, 7], [5, 2, 3, 1, 8], [4, 6, 2, 5, 1]]\n",
    "\n",
    "for i in range(0, len(X)):\n",
    "    row = X[i].copy()\n",
    "    row.insert(0, 1)\n",
    "    print(row)\n",
    "    "
   ]
  },
  {
   "cell_type": "markdown",
   "metadata": {},
   "source": [
    "The code in the following cell performs the same function as the previous cell. It just uses a different style for writing the for loop."
   ]
  },
  {
   "cell_type": "code",
   "execution_count": 2,
   "metadata": {},
   "outputs": [
    {
     "name": "stdout",
     "output_type": "stream",
     "text": [
      "[1, 9, 3, 6, 8, 7]\n",
      "[1, 5, 2, 3, 1, 8]\n",
      "[1, 4, 6, 2, 5, 1]\n"
     ]
    }
   ],
   "source": [
    "X = [[9, 3, 6, 8, 7], [5, 2, 3, 1, 8], [4, 6, 2, 5, 1]]\n",
    "\n",
    "for row in X:\n",
    "    row_copy = row.copy()\n",
    "    row_copy.insert(0, 1)\n",
    "    print(row_copy)"
   ]
  },
  {
   "cell_type": "markdown",
   "metadata": {},
   "source": [
    "The cell below contains pseudocode for the `predict1` function."
   ]
  },
  {
   "cell_type": "raw",
   "metadata": {
    "collapsed": true
   },
   "source": [
    "def predict1(beta, X):\n",
    "    Create y_hat as an empty list.\n",
    "    Loop over each row (observation) of X:\n",
    "        Create a copy of the row.\n",
    "        Insert 1 at the beginning of the row. \n",
    "        Loop over all elements of row:\n",
    "            Multiply the current elements of row and beta; update a running total. \n",
    "        Append the total to y_hat.\n",
    "    return y_hat"
   ]
  },
  {
   "cell_type": "markdown",
   "metadata": {},
   "source": [
    "The cell below contains pseudocode for the `sse1` function."
   ]
  },
  {
   "cell_type": "raw",
   "metadata": {},
   "source": [
    "def sse1(beta, X, y):\n",
    "    Use predict1() to find y_hat. \n",
    "    Loop over the elements of y:\n",
    "        Calculate the error for this observation. \n",
    "        Square the error, and add it to a running total, sse. \n",
    "    return sse. "
   ]
  },
  {
   "cell_type": "markdown",
   "metadata": {},
   "source": [
    "### Part 2: Array Implementation"
   ]
  },
  {
   "cell_type": "code",
   "execution_count": 3,
   "metadata": {},
   "outputs": [],
   "source": [
    "import numpy as np"
   ]
  },
  {
   "cell_type": "markdown",
   "metadata": {},
   "source": [
    "The cell below creates NumPy arrays from the list `X` in Part 1. "
   ]
  },
  {
   "cell_type": "code",
   "execution_count": 4,
   "metadata": {},
   "outputs": [],
   "source": [
    "X_array = np.array(X)"
   ]
  },
  {
   "cell_type": "markdown",
   "metadata": {},
   "source": [
    "We can create a copy of `X_array` and add a column of ones to the front of the array as follows:"
   ]
  },
  {
   "cell_type": "code",
   "execution_count": 5,
   "metadata": {},
   "outputs": [
    {
     "name": "stdout",
     "output_type": "stream",
     "text": [
      "[[1. 9. 3. 6. 8. 7.]\n",
      " [1. 5. 2. 3. 1. 8.]\n",
      " [1. 4. 6. 2. 5. 1.]]\n"
     ]
    }
   ],
   "source": [
    "X_copy = X_array.copy()\n",
    "ones = np.ones((X_array.shape[0], 1))\n",
    "X_copy = np.hstack((ones, X_copy))\n",
    "\n",
    "print(X_copy)"
   ]
  },
  {
   "cell_type": "markdown",
   "metadata": {},
   "source": [
    "Assume that `X` represents a feature array for a regression problem, and we wish to find the `y_hat` values resulting from a regression model with coefficients given by `beta = np.array([2.4, 0.1, -0.4, 0.3, 0.2, -0.7])`. We can do so using matrix multiplication as shown below. Note that we need to take the transpose of `beta`. "
   ]
  },
  {
   "cell_type": "code",
   "execution_count": 6,
   "metadata": {},
   "outputs": [
    {
     "name": "stdout",
     "output_type": "stream",
     "text": [
      "[ 0.6 -2.4  1.3]\n"
     ]
    }
   ],
   "source": [
    "beta = np.array([2.4, 0.1, -0.4, 0.3, 0.2, -0.7])\n",
    "\n",
    "y_hat = np.dot(X_copy, beta.reshape(-1, 1))\n",
    "y_hat = y_hat.reshape(-1,)\n",
    "\n",
    "print(y_hat)"
   ]
  },
  {
   "cell_type": "markdown",
   "metadata": {},
   "source": [
    "The cell below contains pseudocode for the `predict1` function."
   ]
  },
  {
   "cell_type": "raw",
   "metadata": {},
   "source": [
    "def predict2(beta, X):\n",
    "    Create a copy of X so that we do not alter the original feature matrix.\n",
    "    Concatenate a column of ones to the front of X_copy. \n",
    "    Find y_hat by multiplying X_copy with the transpose of beta. Use np.dot.\n",
    "    Reshape y_hat into a 1D array. \n",
    "    return y_hat "
   ]
  },
  {
   "cell_type": "markdown",
   "metadata": {},
   "source": [
    "The cell below contains pseudocode for the `predict1` function."
   ]
  },
  {
   "cell_type": "raw",
   "metadata": {},
   "source": [
    "def sse2(beta, X, y):\n",
    "    Use predict2 to calculate y_hat. \n",
    "    Calculate the errors as the difference between y and y_hat. \n",
    "    Find sse by squaring the error array, and then sum the entries. \n",
    "    return sse"
   ]
  },
  {
   "cell_type": "code",
   "execution_count": null,
   "metadata": {},
   "outputs": [],
   "source": []
  },
  {
   "cell_type": "code",
   "execution_count": null,
   "metadata": {},
   "outputs": [],
   "source": []
  }
 ],
 "metadata": {
  "kernelspec": {
   "display_name": "Python 3",
   "language": "python",
   "name": "python3"
  },
  "language_info": {
   "codemirror_mode": {
    "name": "ipython",
    "version": 3
   },
   "file_extension": ".py",
   "mimetype": "text/x-python",
   "name": "python",
   "nbconvert_exporter": "python",
   "pygments_lexer": "ipython3",
   "version": "3.8.5"
  }
 },
 "nbformat": 4,
 "nbformat_minor": 2
}
