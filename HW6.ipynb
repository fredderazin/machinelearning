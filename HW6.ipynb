{
 "cells": [
  {
   "cell_type": "code",
   "execution_count": 2,
   "metadata": {},
   "outputs": [],
   "source": [
    "import numpy as np\n",
    "from sklearn.model_selection import train_test_split\n",
    "from sklearn.preprocessing import PolynomialFeatures, OneHotEncoder, MinMaxScaler\n",
    "import matplotlib.pyplot as plt"
   ]
  },
  {
   "cell_type": "code",
   "execution_count": 3,
   "metadata": {},
   "outputs": [
    {
     "name": "stdout",
     "output_type": "stream",
     "text": [
      "[[1 4]\n",
      " [5 1]\n",
      " [5 7]\n",
      " [6 3]\n",
      " [7 8]]\n",
      "\n",
      "['b' 'b' 'r' 'r' 'b']\n",
      "[0 0 1 1 0]\n"
     ]
    }
   ],
   "source": [
    "#Problem #1 - \n",
    "x1 = np.array([1, 5, 5, 6, 7]).reshape(5,1)\n",
    "x2 = np.array([4, 1, 7, 3, 8]).reshape(5,1)\n",
    "X = np.concatenate([x1, x2], axis = 1)\n",
    "label = np.array(['b', 'b', 'r', 'r', 'b'])\n",
    "y = np.where(label == 'r', 1, 0)\n",
    "\n",
    "print(X)\n",
    "print()\n",
    "print(label)\n",
    "print(y)"
   ]
  },
  {
   "cell_type": "code",
   "execution_count": 16,
   "metadata": {},
   "outputs": [
    {
     "name": "stdout",
     "output_type": "stream",
     "text": [
      "p = [0.786 0.599 0.45  0.475 0.289]\n",
      "pi = [0.214 0.401 0.45  0.475 0.711]\n",
      "\n",
      "Negative Log-Likelihood 4.337713110420196\n"
     ]
    }
   ],
   "source": [
    "#Default beta values b0 = -1.2, b1 = -0.8, b2 = 0.5\n",
    "#Model1\n",
    "beta = np.array([2, -0.3, -0.1]).reshape(-1,1)\n",
    "\n",
    "ones = np.ones([5,1])\n",
    "X_ = np.hstack([ones, X])\n",
    "z = np.dot(X_, beta).reshape(-1,)\n",
    "p = 1 / (1 + np.exp(-z))\n",
    "pi = np.where(y == 1, p, 1 - p)\n",
    "\n",
    "NLL = -np.sum(np.log(pi))\n",
    "\n",
    "print('p =', p.round(3))\n",
    "print('pi =', pi.round(3))\n",
    "print()\n",
    "print('Negative Log-Likelihood', NLL)"
   ]
  },
  {
   "cell_type": "code",
   "execution_count": 9,
   "metadata": {
    "scrolled": true
   },
   "outputs": [
    {
     "name": "stdout",
     "output_type": "stream",
     "text": [
      "p = [0.90024951 0.93086158 0.549834   0.83201839 0.35434369]\n",
      "pi = [0.09975049 0.06913842 0.549834   0.83201839 0.64565631]\n",
      "\n",
      "Negative Log-Likelihood 6.196255572492182\n"
     ]
    }
   ],
   "source": [
    "#Default beta values b0 = -1.2, b1 = -0.8, b2 = 0.5\n",
    "#Model2\n",
    "\n",
    "beta = np.array([4, -0.2, -0.4]).reshape(-1,1)\n",
    "\n",
    "ones = np.ones([5,1])\n",
    "X_ = np.hstack([ones, X])\n",
    "z = np.dot(X_, beta).reshape(-1,)\n",
    "p = 1 / (1 + np.exp(-z))\n",
    "pi = np.where(y == 1, p, 1 - p)\n",
    "\n",
    "NLL = -np.sum(np.log(pi))\n",
    "\n",
    "print('p =', p)\n",
    "print('pi =', pi)\n",
    "print()\n",
    "print('Negative Log-Likelihood', NLL)"
   ]
  },
  {
   "cell_type": "code",
   "execution_count": 5,
   "metadata": {},
   "outputs": [
    {
     "name": "stdout",
     "output_type": "stream",
     "text": [
      "Precision TP/TP+FP = 0.7692307692307693\n",
      "Precision TP/TP+FP = 0.4\n",
      "Precision TP/TP+FP = 0.5714285714285714\n",
      "\n",
      "Recall TP/TP+FN = 0.625\n",
      "Recall TP/TP+FN = 0.3333333333333333\n",
      "Recall TP/TP+FN = 0.8\n",
      "\n"
     ]
    }
   ],
   "source": [
    "#TP = diagonal values on matrix \n",
    "#FN = the numbers in the rest of the row \n",
    "#FP = the rest of the numbers in the column\n",
    "#Class 0 = [20, 4, 8] \n",
    "#Class 1 = [4, 4, 4] \n",
    "#Class 2 = [2, 2, 16]\n",
    "\n",
    "precision1 = 20/(20+4+2)\n",
    "precision2 = 4/(4+4+2)\n",
    "precision3 = 16/(16+8+4)\n",
    "\n",
    "print('Precision TP/TP+FP =', precision1)\n",
    "print('Precision TP/TP+FP =', precision2)\n",
    "print('Precision TP/TP+FP =', precision3)\n",
    "print('') \n",
    "recall1 = 20/(20+8+4)\n",
    "recall2 = 4/(4+4+4)\n",
    "recall3 = 16/(16+2+2)\n",
    "print('Recall TP/TP+FN =', recall1)\n",
    "print('Recall TP/TP+FN =', recall2) \n",
    "print('Recall TP/TP+FN =', recall3)\n",
    "print('')\n",
    "\n",
    "#accuracy_value = (2 * (precision1 + precision2 + precision3) / (recall1 + recall2 + recall3)\n",
    "#print('Accuary TP + TN / TP+FP+FN+FN+TN = 'accuracy_value)"
   ]
  },
  {
   "cell_type": "code",
   "execution_count": null,
   "metadata": {},
   "outputs": [],
   "source": []
  }
 ],
 "metadata": {
  "kernelspec": {
   "display_name": "Python 3",
   "language": "python",
   "name": "python3"
  },
  "language_info": {
   "codemirror_mode": {
    "name": "ipython",
    "version": 3
   },
   "file_extension": ".py",
   "mimetype": "text/x-python",
   "name": "python",
   "nbconvert_exporter": "python",
   "pygments_lexer": "ipython3",
   "version": "3.8.5"
  }
 },
 "nbformat": 4,
 "nbformat_minor": 4
}
