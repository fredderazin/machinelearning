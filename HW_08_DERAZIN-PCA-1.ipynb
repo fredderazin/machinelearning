{
 "cells": [
  {
   "cell_type": "markdown",
   "metadata": {},
   "source": [
    "## Homework 08 \n",
    "\n",
    "**Type your name here**\n",
    "\n",
    "**DSCI 35600 - Machine Learning**\n"
   ]
  },
  {
   "cell_type": "markdown",
   "metadata": {},
   "source": [
    "## Part A: Import Packages and Load Dataset"
   ]
  },
  {
   "cell_type": "markdown",
   "metadata": {},
   "source": [
    "In the cell below, import the following packages using the standard aliases: `numpy`, `matplotlib.pyplot`, and `pandas`. Also import the following classes and functions from `sklearn`: `train_test_split`, `LogisticRegression`, `KNeighborsClassifier`, `DecisionTreeClassifier`, `VotingClassifier`, `StandardScaler`, and `OneHotEncoder`.  "
   ]
  },
  {
   "cell_type": "code",
   "execution_count": 12,
   "metadata": {
    "scrolled": true
   },
   "outputs": [],
   "source": [
    "#Packages\n",
    "import numpy as np\n",
    "import matplotlib.pyplot as plt\n",
    "import pandas as pd\n",
    "\n",
    "#Functions and classes\n",
    "from sklearn.model_selection import train_test_split\n",
    "from sklearn.linear_model import LogisticRegression\n",
    "from sklearn.neighbors import KNeighborsClassifier\n",
    "from sklearn.tree import DecisionTreeClassifier\n",
    "from sklearn.ensemble import VotingClassifier\n",
    "from sklearn.decomposition import PCA\n",
    "\n",
    "#preprocessing packages\n",
    "from sklearn.preprocessing import StandardScaler, OneHotEncoder"
   ]
  },
  {
   "cell_type": "markdown",
   "metadata": {},
   "source": [
    "For this assignment, you will be using census data from 1994 to attempt to predict whether or not a person has an annual salary greater than $50,000 based on other information provided in the census. You can find a description of the dataset [here](https://archive.ics.uci.edu/ml/datasets/adult).\n",
    "\n",
    "The dataset is store in the tab-separated file `census.txt`. Load the contents of this file into a dataframe called `df`, and then display the first ten rows of the dataframe. (Reminder: I recommend AGAINST ussing the `print()` function to display a DataFrame.)\n"
   ]
  },
  {
   "cell_type": "code",
   "execution_count": 3,
   "metadata": {
    "scrolled": false
   },
   "outputs": [
    {
     "data": {
      "text/html": [
       "<div>\n",
       "<style scoped>\n",
       "    .dataframe tbody tr th:only-of-type {\n",
       "        vertical-align: middle;\n",
       "    }\n",
       "\n",
       "    .dataframe tbody tr th {\n",
       "        vertical-align: top;\n",
       "    }\n",
       "\n",
       "    .dataframe thead th {\n",
       "        text-align: right;\n",
       "    }\n",
       "</style>\n",
       "<table border=\"1\" class=\"dataframe\">\n",
       "  <thead>\n",
       "    <tr style=\"text-align: right;\">\n",
       "      <th></th>\n",
       "      <th>age</th>\n",
       "      <th>workclass</th>\n",
       "      <th>fnlwgt</th>\n",
       "      <th>education</th>\n",
       "      <th>educ_num</th>\n",
       "      <th>marital_status</th>\n",
       "      <th>occupation</th>\n",
       "      <th>relationship</th>\n",
       "      <th>race</th>\n",
       "      <th>sex</th>\n",
       "      <th>capital_gain</th>\n",
       "      <th>capital_loss</th>\n",
       "      <th>hrs_per_week</th>\n",
       "      <th>native_country</th>\n",
       "      <th>salary</th>\n",
       "    </tr>\n",
       "  </thead>\n",
       "  <tbody>\n",
       "    <tr>\n",
       "      <th>0</th>\n",
       "      <td>39</td>\n",
       "      <td>State-gov</td>\n",
       "      <td>77516</td>\n",
       "      <td>Bachelors</td>\n",
       "      <td>13</td>\n",
       "      <td>Never-married</td>\n",
       "      <td>Adm-clerical</td>\n",
       "      <td>Not-in-family</td>\n",
       "      <td>White</td>\n",
       "      <td>Male</td>\n",
       "      <td>2174</td>\n",
       "      <td>0</td>\n",
       "      <td>40</td>\n",
       "      <td>United-States</td>\n",
       "      <td>&lt;=50K</td>\n",
       "    </tr>\n",
       "    <tr>\n",
       "      <th>1</th>\n",
       "      <td>50</td>\n",
       "      <td>Self-emp-not-inc</td>\n",
       "      <td>83311</td>\n",
       "      <td>Bachelors</td>\n",
       "      <td>13</td>\n",
       "      <td>Married-civ-spouse</td>\n",
       "      <td>Exec-managerial</td>\n",
       "      <td>Husband</td>\n",
       "      <td>White</td>\n",
       "      <td>Male</td>\n",
       "      <td>0</td>\n",
       "      <td>0</td>\n",
       "      <td>13</td>\n",
       "      <td>United-States</td>\n",
       "      <td>&lt;=50K</td>\n",
       "    </tr>\n",
       "    <tr>\n",
       "      <th>2</th>\n",
       "      <td>38</td>\n",
       "      <td>Private</td>\n",
       "      <td>215646</td>\n",
       "      <td>HS-grad</td>\n",
       "      <td>9</td>\n",
       "      <td>Divorced</td>\n",
       "      <td>Handlers-cleaners</td>\n",
       "      <td>Not-in-family</td>\n",
       "      <td>White</td>\n",
       "      <td>Male</td>\n",
       "      <td>0</td>\n",
       "      <td>0</td>\n",
       "      <td>40</td>\n",
       "      <td>United-States</td>\n",
       "      <td>&lt;=50K</td>\n",
       "    </tr>\n",
       "    <tr>\n",
       "      <th>3</th>\n",
       "      <td>53</td>\n",
       "      <td>Private</td>\n",
       "      <td>234721</td>\n",
       "      <td>11th</td>\n",
       "      <td>7</td>\n",
       "      <td>Married-civ-spouse</td>\n",
       "      <td>Handlers-cleaners</td>\n",
       "      <td>Husband</td>\n",
       "      <td>Black</td>\n",
       "      <td>Male</td>\n",
       "      <td>0</td>\n",
       "      <td>0</td>\n",
       "      <td>40</td>\n",
       "      <td>United-States</td>\n",
       "      <td>&lt;=50K</td>\n",
       "    </tr>\n",
       "    <tr>\n",
       "      <th>4</th>\n",
       "      <td>28</td>\n",
       "      <td>Private</td>\n",
       "      <td>338409</td>\n",
       "      <td>Bachelors</td>\n",
       "      <td>13</td>\n",
       "      <td>Married-civ-spouse</td>\n",
       "      <td>Prof-specialty</td>\n",
       "      <td>Wife</td>\n",
       "      <td>Black</td>\n",
       "      <td>Female</td>\n",
       "      <td>0</td>\n",
       "      <td>0</td>\n",
       "      <td>40</td>\n",
       "      <td>Cuba</td>\n",
       "      <td>&lt;=50K</td>\n",
       "    </tr>\n",
       "    <tr>\n",
       "      <th>5</th>\n",
       "      <td>37</td>\n",
       "      <td>Private</td>\n",
       "      <td>284582</td>\n",
       "      <td>Masters</td>\n",
       "      <td>14</td>\n",
       "      <td>Married-civ-spouse</td>\n",
       "      <td>Exec-managerial</td>\n",
       "      <td>Wife</td>\n",
       "      <td>White</td>\n",
       "      <td>Female</td>\n",
       "      <td>0</td>\n",
       "      <td>0</td>\n",
       "      <td>40</td>\n",
       "      <td>United-States</td>\n",
       "      <td>&lt;=50K</td>\n",
       "    </tr>\n",
       "    <tr>\n",
       "      <th>6</th>\n",
       "      <td>49</td>\n",
       "      <td>Private</td>\n",
       "      <td>160187</td>\n",
       "      <td>9th</td>\n",
       "      <td>5</td>\n",
       "      <td>Married-spouse-absent</td>\n",
       "      <td>Other-service</td>\n",
       "      <td>Not-in-family</td>\n",
       "      <td>Black</td>\n",
       "      <td>Female</td>\n",
       "      <td>0</td>\n",
       "      <td>0</td>\n",
       "      <td>16</td>\n",
       "      <td>Jamaica</td>\n",
       "      <td>&lt;=50K</td>\n",
       "    </tr>\n",
       "    <tr>\n",
       "      <th>7</th>\n",
       "      <td>52</td>\n",
       "      <td>Self-emp-not-inc</td>\n",
       "      <td>209642</td>\n",
       "      <td>HS-grad</td>\n",
       "      <td>9</td>\n",
       "      <td>Married-civ-spouse</td>\n",
       "      <td>Exec-managerial</td>\n",
       "      <td>Husband</td>\n",
       "      <td>White</td>\n",
       "      <td>Male</td>\n",
       "      <td>0</td>\n",
       "      <td>0</td>\n",
       "      <td>45</td>\n",
       "      <td>United-States</td>\n",
       "      <td>&gt;50K</td>\n",
       "    </tr>\n",
       "    <tr>\n",
       "      <th>8</th>\n",
       "      <td>31</td>\n",
       "      <td>Private</td>\n",
       "      <td>45781</td>\n",
       "      <td>Masters</td>\n",
       "      <td>14</td>\n",
       "      <td>Never-married</td>\n",
       "      <td>Prof-specialty</td>\n",
       "      <td>Not-in-family</td>\n",
       "      <td>White</td>\n",
       "      <td>Female</td>\n",
       "      <td>14084</td>\n",
       "      <td>0</td>\n",
       "      <td>50</td>\n",
       "      <td>United-States</td>\n",
       "      <td>&gt;50K</td>\n",
       "    </tr>\n",
       "    <tr>\n",
       "      <th>9</th>\n",
       "      <td>42</td>\n",
       "      <td>Private</td>\n",
       "      <td>159449</td>\n",
       "      <td>Bachelors</td>\n",
       "      <td>13</td>\n",
       "      <td>Married-civ-spouse</td>\n",
       "      <td>Exec-managerial</td>\n",
       "      <td>Husband</td>\n",
       "      <td>White</td>\n",
       "      <td>Male</td>\n",
       "      <td>5178</td>\n",
       "      <td>0</td>\n",
       "      <td>40</td>\n",
       "      <td>United-States</td>\n",
       "      <td>&gt;50K</td>\n",
       "    </tr>\n",
       "  </tbody>\n",
       "</table>\n",
       "</div>"
      ],
      "text/plain": [
       "   age          workclass  fnlwgt   education  educ_num  \\\n",
       "0   39          State-gov   77516   Bachelors        13   \n",
       "1   50   Self-emp-not-inc   83311   Bachelors        13   \n",
       "2   38            Private  215646     HS-grad         9   \n",
       "3   53            Private  234721        11th         7   \n",
       "4   28            Private  338409   Bachelors        13   \n",
       "5   37            Private  284582     Masters        14   \n",
       "6   49            Private  160187         9th         5   \n",
       "7   52   Self-emp-not-inc  209642     HS-grad         9   \n",
       "8   31            Private   45781     Masters        14   \n",
       "9   42            Private  159449   Bachelors        13   \n",
       "\n",
       "           marital_status          occupation    relationship    race  \\\n",
       "0           Never-married        Adm-clerical   Not-in-family   White   \n",
       "1      Married-civ-spouse     Exec-managerial         Husband   White   \n",
       "2                Divorced   Handlers-cleaners   Not-in-family   White   \n",
       "3      Married-civ-spouse   Handlers-cleaners         Husband   Black   \n",
       "4      Married-civ-spouse      Prof-specialty            Wife   Black   \n",
       "5      Married-civ-spouse     Exec-managerial            Wife   White   \n",
       "6   Married-spouse-absent       Other-service   Not-in-family   Black   \n",
       "7      Married-civ-spouse     Exec-managerial         Husband   White   \n",
       "8           Never-married      Prof-specialty   Not-in-family   White   \n",
       "9      Married-civ-spouse     Exec-managerial         Husband   White   \n",
       "\n",
       "       sex  capital_gain  capital_loss  hrs_per_week  native_country  salary  \n",
       "0     Male          2174             0            40   United-States   <=50K  \n",
       "1     Male             0             0            13   United-States   <=50K  \n",
       "2     Male             0             0            40   United-States   <=50K  \n",
       "3     Male             0             0            40   United-States   <=50K  \n",
       "4   Female             0             0            40            Cuba   <=50K  \n",
       "5   Female             0             0            40   United-States   <=50K  \n",
       "6   Female             0             0            16         Jamaica   <=50K  \n",
       "7     Male             0             0            45   United-States    >50K  \n",
       "8   Female         14084             0            50   United-States    >50K  \n",
       "9     Male          5178             0            40   United-States    >50K  "
      ]
     },
     "execution_count": 3,
     "metadata": {},
     "output_type": "execute_result"
    }
   ],
   "source": [
    "df = pd.read_csv('census.txt', sep ='\\t')\n",
    "df.head(10)\n"
   ]
  },
  {
   "cell_type": "markdown",
   "metadata": {},
   "source": [
    "## Part B: Preparing the Data"
   ]
  },
  {
   "cell_type": "markdown",
   "metadata": {},
   "source": [
    "In the cell below, create a list called `cat_idx` that stores the indices of the columns in `df` that correspond to categorical variables. Create a list called `num_idx` that stores the indices of the columns in `df` that correspond to numerical variables. (Simply hard-code these lists.)\n",
    "\n",
    "Then use these lists to create arrays `Xcat` and `Xnum`. Also create an array of labels called `y`. Print the shapes of these three arrays."
   ]
  },
  {
   "cell_type": "code",
   "execution_count": 4,
   "metadata": {},
   "outputs": [
    {
     "name": "stdout",
     "output_type": "stream",
     "text": [
      "(32561, 6)\n",
      "(32561, 8)\n",
      "(32561,)\n"
     ]
    }
   ],
   "source": [
    "num_idx = [0,2,4,10,11,12]\n",
    "cat_idx = [1,3,5,6,7,8,9,13]\n",
    "\n",
    "Xnum = df.iloc[:,num_idx]\n",
    "Xcat = df.iloc[:,cat_idx]\n",
    "y = df.iloc[:,14]\n",
    "\n",
    "print(Xnum.shape)\n",
    "print(Xcat.shape)\n",
    "print(y.shape)"
   ]
  },
  {
   "cell_type": "markdown",
   "metadata": {},
   "source": [
    "#### Numerical Features\n",
    "Split `Xnum` into training and validation sets called `Xnum_train` and `Xnum_val`. Use an 80/20 split, and set `random_state=1`. Print the shapes of the resulting training and validation arrays."
   ]
  },
  {
   "cell_type": "code",
   "execution_count": 8,
   "metadata": {},
   "outputs": [
    {
     "name": "stdout",
     "output_type": "stream",
     "text": [
      "Xnum_train: (26048, 6)\n",
      "Xnum_val: (6513, 6)\n",
      "y_train,: (26048,)\n",
      "y_val: (6513,)\n"
     ]
    }
   ],
   "source": [
    "Xnum_train, Xnum_val, y_train, y_val = train_test_split(Xnum, y, test_size=0.20, random_state=1)\n",
    "\n",
    "print('Xnum_train:', Xnum_train.shape)\n",
    "print('Xnum_val:',Xnum_val.shape)\n",
    "print('y_train,:', y_train.shape)\n",
    "print('y_val:', y_val.shape)"
   ]
  },
  {
   "cell_type": "markdown",
   "metadata": {},
   "source": [
    "Use the `StandardScaler` class to scale the numerical data. Name the resulting arrays `Xsca_train` and `Xsca_val`. Print the shape of these arrays. "
   ]
  },
  {
   "cell_type": "code",
   "execution_count": 11,
   "metadata": {},
   "outputs": [
    {
     "name": "stdout",
     "output_type": "stream",
     "text": [
      "Sca_train:\n",
      " [[ 0.03136921 -0.01343642 -1.19813139 -0.14725394 -0.21799177 -0.03453362]\n",
      " [ 1.1309098  -0.80210463  1.12883806 -0.14725394 -0.21799177 -0.03453362]\n",
      " [-0.48174973 -0.31646978 -0.42247491 -0.14725394  4.49399152  0.77607435]\n",
      " ...\n",
      " [-0.84826326 -0.80732397  1.12883806 -0.14725394 -0.21799177 -0.03453362]\n",
      " [ 1.49742333  0.74283978 -0.42247491 -0.14725394 -0.21799177 -0.03453362]\n",
      " [-0.40844702 -1.23557437  1.12883806 -0.14725394  4.49399152  0.37077037]]\n",
      "\n",
      "\n",
      "Xsca_val:\n",
      " [[ 1.71498194 -1.55900962 -2.37180562 -0.14081112 -0.21129763  2.05941672]\n",
      " [-1.51252771  0.1846676  -1.19493757 -0.14081112 -0.21129763 -1.24962063]\n",
      " [-0.99906027 -0.83181985  1.15879852  3.53393133 -0.21129763  0.76808508]\n",
      " ...\n",
      " [-0.26553535  0.97496741 -0.41035887 -0.14081112 -0.21129763 -0.0389972 ]\n",
      " [-0.63229781 -1.5561611  -1.19493757 -0.14081112 -0.21129763  0.36454394]\n",
      " [ 0.98145702  0.96736495  2.33566657 -0.14081112 -0.21129763  1.57516736]]\n"
     ]
    }
   ],
   "source": [
    "Scaler = StandardScaler()\n",
    "Xsca_train = Scaler.fit_transform(Xnum_train)\n",
    "Xsca_val = Scaler.fit_transform(Xnum_val)\n",
    "\n",
    "print('Sca_train:\\n', Xsca_train)\n",
    "print('\\n')\n",
    "print('Xsca_val:\\n', Xsca_val)"
   ]
  },
  {
   "cell_type": "markdown",
   "metadata": {},
   "source": [
    "#### Categorical Features\n",
    "\n",
    "Use the `OneHotEncoder` class to encode the categorical feature array (setting `sparse=False`). Store the results in an array called `Xenc`. Print the shape of this array. "
   ]
  },
  {
   "cell_type": "code",
   "execution_count": 16,
   "metadata": {},
   "outputs": [
    {
     "name": "stdout",
     "output_type": "stream",
     "text": [
      "Xenc.shape: (32561, 102)\n"
     ]
    }
   ],
   "source": [
    "OHE = OneHotEncoder(sparse = False)\n",
    "Xenc = OHE.fit_transform(Xcat)\n",
    "\n",
    "print('Xenc.shape:', Xenc.shape)"
   ]
  },
  {
   "cell_type": "markdown",
   "metadata": {},
   "source": [
    "Split `Xenc` into training and validation sets called `Xenc_train` and `Xenc_val`. Use an 80/20 split, and set `random_state=1`. Print the shapes of the resulting training and validation arrays."
   ]
  },
  {
   "cell_type": "code",
   "execution_count": 17,
   "metadata": {},
   "outputs": [
    {
     "name": "stdout",
     "output_type": "stream",
     "text": [
      "(26048, 102)\n",
      "(6513, 102)\n",
      "(26048,)\n",
      "(6513,)\n"
     ]
    }
   ],
   "source": [
    "Xenc_train, Xenc_val, y_train, y_val = train_test_split(Xenc, y, test_size=0.20, random_state=1)\n",
    "\n",
    "print(Xenc_train.shape)\n",
    "print(Xenc_val.shape)\n",
    "print(y_train.shape)\n",
    "print(y_val.shape)"
   ]
  },
  {
   "cell_type": "markdown",
   "metadata": {},
   "source": [
    "#### Combine Numerical and Categorial Features\n",
    "\n",
    "Use `np.hstack()` to combine `Xsca_train` and `Xenc_train` into an array called `X_train`. Then combine `Xsca_val` and `Xenc_val` into an array called `X_val`. Print the shapes of the two new arrays."
   ]
  },
  {
   "cell_type": "code",
   "execution_count": 18,
   "metadata": {},
   "outputs": [
    {
     "name": "stdout",
     "output_type": "stream",
     "text": [
      "(26048, 108)\n",
      "(6513, 108)\n"
     ]
    }
   ],
   "source": [
    "X_train = np.hstack([Xsca_train, Xenc_train])\n",
    "X_val = np.hstack([Xsca_val, Xenc_val])\n",
    "\n",
    "print(X_train.shape)\n",
    "print(X_val.shape)"
   ]
  },
  {
   "cell_type": "code",
   "execution_count": 35,
   "metadata": {},
   "outputs": [
    {
     "name": "stdout",
     "output_type": "stream",
     "text": [
      "[0.14834125 0.10859078 0.0973384  0.09645379 0.08838031 0.08150459\n",
      " 0.05901761 0.02868279 0.02490735 0.02384805 0.01882877 0.01622969\n",
      " 0.0157882  0.01369105 0.01238959]\n",
      "[0.14834125 0.25693203 0.35427044 0.45072423 0.53910454 0.62060913\n",
      " 0.67962674 0.70830954 0.73321689 0.75706494 0.77589372 0.79212341\n",
      " 0.80791161 0.82160265 0.83399224]\n"
     ]
    }
   ],
   "source": [
    "pca = PCA(n_components=15)\n",
    "z_train = pca.fit_transform(X_train)\n",
    "z_val = pca.fit_transform(X_val)\n",
    "\n",
    "print(pca.explained_variance_ratio_)\n",
    "print(np.cumsum(pca.explained_variance_ratio_))"
   ]
  },
  {
   "cell_type": "code",
   "execution_count": 36,
   "metadata": {},
   "outputs": [
    {
     "name": "stdout",
     "output_type": "stream",
     "text": [
      "(26048, 15)\n",
      "(6513, 15)\n"
     ]
    }
   ],
   "source": [
    "print(z_train.shape)\n",
    "print(z_val.shape)"
   ]
  },
  {
   "cell_type": "markdown",
   "metadata": {},
   "source": [
    "# Part C: Logistic Regression Model"
   ]
  },
  {
   "cell_type": "markdown",
   "metadata": {},
   "source": [
    "In the cell below, create and fit several logistic regression models, each with a different value for the regularization parameter `C`. In particular, consider 20 models with `C=10**k`, where `k` ranges from -3 to 3. For each model, log the training and validation accuracies in seperate lists, and then plot these lists against `k`. Label your axes, and display a legend for your plot. \n",
    "\n",
    "Tip: To avoid seeing warning messages, set `solver='lbfgs'` and `max_iter=1000` when creating your logistic regression models. "
   ]
  },
  {
   "cell_type": "code",
   "execution_count": 37,
   "metadata": {},
   "outputs": [
    {
     "data": {
      "image/png": "[encoded data removed]",
      "text/plain": [
       "<Figure size 432x288 with 1 Axes>"
      ]
     },
     "metadata": {
      "needs_background": "light"
     },
     "output_type": "display_data"
    },
    {
     "name": "stdout",
     "output_type": "stream",
     "text": [
      "CPU times: user 6 µs, sys: 1 µs, total: 7 µs\n",
      "Wall time: 14.1 µs\n"
     ]
    }
   ],
   "source": [
    "tr_acc = []\n",
    "va_acc = []\n",
    "exp_list = np.linspace(-3, 3, 20)\n",
    "\n",
    "for k in exp_list:\n",
    "    LR = LogisticRegression(solver='lbfgs', C=10**k, max_iter=1000)\n",
    "    LR.fit(X_train, y_train)\n",
    "    tr_acc.append(LR.score(X_train, y_train))\n",
    "    va_acc.append(LR.score(X_val, y_val))\n",
    "\n",
    "plt.figure(figsize=([6,4]))\n",
    "plt.plot(exp_list, tr_acc, label='Training Accuracy')\n",
    "plt.plot(exp_list, va_acc, label='Validation Accuracy')\n",
    "plt.xlabel('log(C)')\n",
    "plt.ylabel('Accuracy')\n",
    "plt.legend()\n",
    "plt.show()\n",
    "%time"
   ]
  },
  {
   "cell_type": "markdown",
   "metadata": {},
   "source": [
    "Use `np.argmax` to find the value of `k` that results in the largest validation accuracy. Print this result. "
   ]
  },
  {
   "cell_type": "code",
   "execution_count": 39,
   "metadata": {},
   "outputs": [
    {
     "name": "stdout",
     "output_type": "stream",
     "text": [
      "-0.1578947368421053\n"
     ]
    }
   ],
   "source": [
    "idx = np.argmax(va_acc)\n",
    "best_idx = exp_list[idx]\n",
    "print(best_idx)"
   ]
  },
  {
   "cell_type": "markdown",
   "metadata": {},
   "source": [
    "Create a logistic regression model using the previously determined value for the regularization parameter. Print the training and validation accuracies for this model, clearly indicating which is which."
   ]
  },
  {
   "cell_type": "code",
   "execution_count": 40,
   "metadata": {},
   "outputs": [
    {
     "name": "stdout",
     "output_type": "stream",
     "text": [
      "Training Accuracy: 0.8540003071253072\n",
      "Training Validation: 0.852141870105942\n"
     ]
    }
   ],
   "source": [
    "LR_model = LogisticRegression(solver='lbfgs', C=10**best_idx, max_iter=1000)\n",
    "\n",
    "LR_model.fit(X_train, y_train)\n",
    "\n",
    "print('Training Accuracy:', LR_model.score(X_train, y_train))\n",
    "print('Training Validation:', LR_model.score(X_val, y_val))"
   ]
  },
  {
   "cell_type": "code",
   "execution_count": 41,
   "metadata": {},
   "outputs": [
    {
     "name": "stdout",
     "output_type": "stream",
     "text": [
      "Training Accuracy: 0.84432585995086\n",
      "Validation Accuracy: 0.8257331490864425\n"
     ]
    }
   ],
   "source": [
    "pca_model = LogisticRegression(solver='lbfgs', multi_class='ovr', max_iter=1000)\n",
    "pca_model.fit(z_train, y_train)\n",
    "\n",
    "print('Training Accuracy:', pca_model.score(z_train, y_train))\n",
    "print('Validation Accuracy:', pca_model.score(z_val, y_val))"
   ]
  },
  {
   "cell_type": "code",
   "execution_count": null,
   "metadata": {},
   "outputs": [],
   "source": []
  },
  {
   "cell_type": "markdown",
   "metadata": {},
   "source": [
    "## Part D: K-Nearest Neighbors Model"
   ]
  },
  {
   "cell_type": "markdown",
   "metadata": {},
   "source": [
    "In the cell below, create and fit several KNN models, each with a different value of `K`. In particular, consider 10 models with values of `K` ranging from 1 to 30. For each model, log the validation accuracy (but NOT the training accuracy) in a list, and then plot these lists against `k`. Label your axes, and display a legend for your plot. \n",
    "\n",
    "Note: This could take a while to run. It took around 10 minutes on my computer. Grab a coffee.  "
   ]
  },
  {
   "cell_type": "code",
   "execution_count": 42,
   "metadata": {},
   "outputs": [
    {
     "data": {
      "image/png": "[encoded data removed]",
      "text/plain": [
       "<Figure size 432x288 with 1 Axes>"
      ]
     },
     "metadata": {
      "needs_background": "light"
     },
     "output_type": "display_data"
    },
    {
     "name": "stdout",
     "output_type": "stream",
     "text": [
      "CPU times: user 6 µs, sys: 1 µs, total: 7 µs\n",
      "Wall time: 13.8 µs\n"
     ]
    }
   ],
   "source": [
    "#KNN Model\n",
    "#tr_acc=[]\n",
    "va_acc=[]\n",
    "k_list = np.linspace(1, 30, 10).astype('int')\n",
    "\n",
    "for k in k_list:\n",
    "    KNN_model = KNeighborsClassifier(k)\n",
    "    KNN_model.fit(X_train, y_train)\n",
    "    va_acc.append(KNN_model.score(X_val, y_val))\n",
    "    \n",
    "plt.figure(figsize=([6,4]))\n",
    "plt.plot(k_list, va_acc, label='Validation Accuracy')\n",
    "plt.xlabel('K')\n",
    "plt.ylabel('Accuracy')\n",
    "plt.legend()\n",
    "plt.show()\n",
    "\n",
    "%time"
   ]
  },
  {
   "cell_type": "markdown",
   "metadata": {},
   "source": [
    "Use `np.argmax` to find the value of `K` that results in the largest validation accuracy. Print this result. "
   ]
  },
  {
   "cell_type": "code",
   "execution_count": 103,
   "metadata": {},
   "outputs": [
    {
     "name": "stdout",
     "output_type": "stream",
     "text": [
      "30\n"
     ]
    }
   ],
   "source": [
    "idx = np.argmax(va_acc)\n",
    "best_k = k_list[idx]\n",
    "print(best_k)"
   ]
  },
  {
   "cell_type": "markdown",
   "metadata": {},
   "source": [
    "Create a KNN model using the previously determined value of `K`. Print the training and validation accuracies for this model, clearly indicating which is which."
   ]
  },
  {
   "cell_type": "code",
   "execution_count": 104,
   "metadata": {},
   "outputs": [
    {
     "name": "stdout",
     "output_type": "stream",
     "text": [
      "Training Accuracy: 0.8511210073710074\n",
      "Validation Accuracy: 0.8440042990941194\n"
     ]
    }
   ],
   "source": [
    "KNN_model = KNeighborsClassifier(best_k)\n",
    "\n",
    "KNN_model.fit(X_train, y_train)\n",
    "\n",
    "print('Training Accuracy:', KNN_model.score(X_train, y_train))\n",
    "print('Validation Accuracy:', KNN_model.score(X_val, y_val))"
   ]
  },
  {
   "cell_type": "markdown",
   "metadata": {},
   "source": [
    "## Part E: Decision Tree Model"
   ]
  },
  {
   "cell_type": "markdown",
   "metadata": {},
   "source": [
    "In the cell below, create and fit several decision tree models, each with a different value for the `max_depth` parameter. In particular, consider models for every value of max_dept from 1 to 30. For each model, log the training and validation accuracies in seperate lists, and then plot these lists against the max depth. Label your axes, and display a legend for your plot. \n",
    "\n",
    "Set a seed of 1 at the beginning of this cell."
   ]
  },
  {
   "cell_type": "code",
   "execution_count": 105,
   "metadata": {},
   "outputs": [
    {
     "data": {
      "image/png": "[encoded data removed]",
      "text/plain": [
       "<Figure size 432x288 with 1 Axes>"
      ]
     },
     "metadata": {
      "needs_background": "light"
     },
     "output_type": "display_data"
    }
   ],
   "source": [
    "tr_acc = []\n",
    "va_acc = []\n",
    "depth_list = range(1,30)\n",
    "\n",
    "np.random.seed(1)\n",
    "for d in depth_list:\n",
    "    temp_mod = DecisionTreeClassifier(max_depth=d)\n",
    "    temp_mod.fit(X_train, y_train)\n",
    "    tr_acc.append(temp_mod.score(X_train, y_train))\n",
    "    va_acc.append(temp_mod.score(X_val, y_val))\n",
    "    \n",
    "plt.figure(figsize=([6,4]))\n",
    "plt.plot(depth_list, tr_acc, label='Training Accuracy')\n",
    "plt.plot(depth_list, va_acc, label='Validation Accuracy')\n",
    "plt.xlabel('Max Depth')\n",
    "plt.ylabel('Accuracy')\n",
    "plt.legend()\n",
    "plt.show()"
   ]
  },
  {
   "cell_type": "markdown",
   "metadata": {},
   "source": [
    "Use `np.argmax` to find the value of `max_depth` that results in the largest validation accuracy. Print this result. "
   ]
  },
  {
   "cell_type": "code",
   "execution_count": 106,
   "metadata": {},
   "outputs": [
    {
     "name": "stdout",
     "output_type": "stream",
     "text": [
      "10\n"
     ]
    }
   ],
   "source": [
    "idx = np.argmax(va_acc)\n",
    "best_d = depth_list[idx]\n",
    "print(best_d)"
   ]
  },
  {
   "cell_type": "markdown",
   "metadata": {},
   "source": [
    "Create a tree model using the previously determined value of `max_depth`. Print the training and validation accuracies for this model, clearly indicating which is which.\n",
    "\n",
    "Set a seed of 1 at the beginning of this cell."
   ]
  },
  {
   "cell_type": "code",
   "execution_count": 107,
   "metadata": {},
   "outputs": [
    {
     "name": "stdout",
     "output_type": "stream",
     "text": [
      "Training Accuracy:  0.8695485257985258\n",
      "Validation Accuracy:  0.8532166436358053\n"
     ]
    }
   ],
   "source": [
    "np.random.seed(1)\n",
    "DT_model = DecisionTreeClassifier(max_depth = best_d)\n",
    "DT_model.fit(X_train, y_train)\n",
    "\n",
    "print('Training Accuracy: ', DT_model.score(X_train, y_train))\n",
    "print('Validation Accuracy: ', DT_model.score(X_val, y_val))"
   ]
  },
  {
   "cell_type": "markdown",
   "metadata": {},
   "source": [
    "## Part F: Voting Classifier"
   ]
  },
  {
   "cell_type": "markdown",
   "metadata": {},
   "source": [
    "Use `VotingClassifier` to create an ensemble of the three models that you previously created. Fit this ensemble model, and then print the training and validation accuracies, clearly indicating which is which.\n",
    "\n",
    "Set a seed of 1 at the beginning of this cell."
   ]
  },
  {
   "cell_type": "code",
   "execution_count": 111,
   "metadata": {},
   "outputs": [
    {
     "name": "stdout",
     "output_type": "stream",
     "text": [
      "Training Accuracy: 0.8683584152334153\n",
      "Validation Accuracy: 0.857976354982343\n"
     ]
    }
   ],
   "source": [
    "voting_clf = VotingClassifier(voting='soft', estimators = [('Logistic Regression', LR_model), ('KNN model', KNN_model),('Decision Tree model', DT_model)])\n",
    "\n",
    "voting_clf.fit(X_train, y_train)\n",
    "\n",
    "print('Training Accuracy:', voting_clf.score(X_train, y_train))\n",
    "print('Validation Accuracy:', voting_clf.score(X_val, y_val))"
   ]
  },
  {
   "cell_type": "markdown",
   "metadata": {},
   "source": [
    "## Part G: Summary\n",
    "\n",
    "Print the validation accuracies for each of the four models, clearly indicating which is which. "
   ]
  },
  {
   "cell_type": "code",
   "execution_count": 109,
   "metadata": {},
   "outputs": [
    {
     "name": "stdout",
     "output_type": "stream",
     "text": [
      "Logistic Regression: 0.8522954091816367\n",
      "KNN Classifier: 0.8440042990941194\n",
      "Decision Tree: 0.8532166436358053\n",
      "Ensemble Accuracy: 0.8567480423767849\n"
     ]
    }
   ],
   "source": [
    "print('Logistic Regression:', LR_model.score(X_val, y_val))\n",
    "print('KNN Classifier:', KNN_model.score(X_val, y_val))\n",
    "print('Decision Tree:', DT_model.score(X_val, y_val))\n",
    "print('Ensemble Accuracy:', voting_clf.score(X_val, y_val))"
   ]
  }
 ],
 "metadata": {
  "kernelspec": {
   "display_name": "Python 3",
   "language": "python",
   "name": "python3"
  },
  "language_info": {
   "codemirror_mode": {
    "name": "ipython",
    "version": 3
   },
   "file_extension": ".py",
   "mimetype": "text/x-python",
   "name": "python",
   "nbconvert_exporter": "python",
   "pygments_lexer": "ipython3",
   "version": "3.8.5"
  }
 },
 "nbformat": 4,
 "nbformat_minor": 2
}
