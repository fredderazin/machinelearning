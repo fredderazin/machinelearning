{
 "cells": [
  {
   "cell_type": "markdown",
   "metadata": {},
   "source": [
    "# Tutorial 01 - Arithmetic, Variables, Lists\n",
    "\n",
    "### The following topics are discussed in this notebook:\n",
    "* Arithmetic operations in Python.\n",
    "* Defining and using variables. \n",
    "* Variable names.\n",
    "* Variable types.\n",
    "* Lists\n",
    "\n",
    "### Additional Resources\n",
    "* Chapters 2, 8, and 10 of [Think Python](http://greenteapress.com/thinkpython2/html/index.html)\n",
    "* [DataCamp: Intro to Python for Data Science, Chapter 1](https://www.datacamp.com/courses/intro-to-python-for-data-science)\n",
    "\n"
   ]
  },
  {
   "cell_type": "markdown",
   "metadata": {},
   "source": [
    "## Arithmetic operations\n",
    "\n",
    "Python supports standard arithmetic operations such as addition, subtraction, multiplication, division, and exponentiation.  "
   ]
  },
  {
   "cell_type": "code",
   "execution_count": 1,
   "metadata": {},
   "outputs": [
    {
     "name": "stdout",
     "output_type": "stream",
     "text": [
      "Sum: 7\n",
      "Difference: -1\n",
      "Product: 12\n",
      "Ratio: 0.75\n",
      "Power: 81\n"
     ]
    }
   ],
   "source": [
    "x = 3\n",
    "y = 4\n",
    "\n",
    "v1 = x + y\n",
    "print('Sum:', v1)\n",
    "\n",
    "v2 = x - y\n",
    "print('Difference:', v2)\n",
    "\n",
    "v3 = x * y\n",
    "print('Product:', v3)\n",
    "\n",
    "v4 = x / y\n",
    "print('Ratio:', v4)\n",
    "\n",
    "v5 = x ** y\n",
    "print('Power:', v5)"
   ]
  },
  {
   "cell_type": "markdown",
   "metadata": {},
   "source": [
    "## Variable Names\n",
    "\n",
    "Python variable names can include numbers, letters, and underscores, but cannot contain any other characters or spaces. Variable names must always start with a letter. Python is case sensitive. \n",
    "\n",
    "[PEP 8: Naming Conventions](https://www.python.org/dev/peps/pep-0008/#naming-conventions)\n"
   ]
  },
  {
   "cell_type": "code",
   "execution_count": 2,
   "metadata": {},
   "outputs": [],
   "source": [
    "var1 = 3.14159\n",
    "this_is_a_valid_name = 2.71828\n",
    "t0tally_val1d = 1.414"
   ]
  },
  {
   "cell_type": "markdown",
   "metadata": {},
   "source": [
    "## Variable Types\n",
    "\n",
    "Python has four numerical variable types: `int`, `long`, `float`, and `complex`. For now, we will focus on `int` and `float`.\n",
    "* An `int` variable is used to represent an integer. \n",
    "* A `float` variable is used to represent a decimal number. "
   ]
  },
  {
   "cell_type": "code",
   "execution_count": 3,
   "metadata": {},
   "outputs": [
    {
     "name": "stdout",
     "output_type": "stream",
     "text": [
      "<class 'int'>\n",
      "<class 'float'>\n"
     ]
    }
   ],
   "source": [
    "x = 4\n",
    "pi = 3.14159\n",
    "\n",
    "print(type(x))\n",
    "print(type(pi))"
   ]
  },
  {
   "cell_type": "markdown",
   "metadata": {},
   "source": [
    "Two other basic data types in Python are `str` and `bool`. "
   ]
  },
  {
   "cell_type": "code",
   "execution_count": 4,
   "metadata": {},
   "outputs": [
    {
     "name": "stdout",
     "output_type": "stream",
     "text": [
      "Hello World\n",
      "<class 'str'>\n"
     ]
    }
   ],
   "source": [
    "my_string = \"Hello World\"\n",
    "print(my_string)\n",
    "print(type(my_string))"
   ]
  },
  {
   "cell_type": "code",
   "execution_count": 5,
   "metadata": {},
   "outputs": [
    {
     "name": "stdout",
     "output_type": "stream",
     "text": [
      "blahblahblah\n",
      "foo bar\n",
      "foo\n",
      "\tbar\n"
     ]
    }
   ],
   "source": [
    "print('blah' * 3)\n",
    "\n",
    "print('foo' + ' ' + 'bar')\n",
    "\n",
    "print('foo\\n\\t' + 'bar')"
   ]
  },
  {
   "cell_type": "code",
   "execution_count": 6,
   "metadata": {},
   "outputs": [
    {
     "name": "stdout",
     "output_type": "stream",
     "text": [
      "False\n",
      "<class 'bool'>\n"
     ]
    }
   ],
   "source": [
    "x = 9\n",
    "my_bool = x < 3\n",
    "\n",
    "print(my_bool)\n",
    "print(type(my_bool))"
   ]
  },
  {
   "cell_type": "code",
   "execution_count": 7,
   "metadata": {},
   "outputs": [
    {
     "name": "stdout",
     "output_type": "stream",
     "text": [
      "False\n",
      "True\n"
     ]
    }
   ],
   "source": [
    "x = 9\n",
    "inside = (x >= 3) & (x <= 7)\n",
    "outside = (x < 3) | (x > 7)\n",
    "\n",
    "print(inside)\n",
    "print(outside)"
   ]
  },
  {
   "cell_type": "markdown",
   "metadata": {},
   "source": [
    "Python is a \"dynamically typed\" language (as opposed to a \"statically typed\" language, such as Java). We do not have to declare variable types when defining a variable, and we are able to change the type of a variable within a script. "
   ]
  },
  {
   "cell_type": "code",
   "execution_count": 8,
   "metadata": {},
   "outputs": [
    {
     "name": "stdout",
     "output_type": "stream",
     "text": [
      "<class 'int'>\n",
      "<class 'str'>\n"
     ]
    }
   ],
   "source": [
    "my_var = 5\n",
    "print(type(my_var))\n",
    "my_var = 'Five'\n",
    "print(type(my_var))"
   ]
  },
  {
   "cell_type": "markdown",
   "metadata": {},
   "source": [
    "## Lists\n",
    "\n",
    "A **list** is a tool for storing sets of values. Individul values within a list are assigned a type of address called an **index**. The index of a value in a list provides us with a means of accessing that particular value. "
   ]
  },
  {
   "cell_type": "code",
   "execution_count": 9,
   "metadata": {},
   "outputs": [
    {
     "name": "stdout",
     "output_type": "stream",
     "text": [
      "<class 'list'>\n",
      "['Mercury', 'Venus', 'Earth', 'Mars', 'Jupiter', 'Saturn', 'Uranus', 'Neptune']\n",
      "Mercury\n",
      "Saturn\n",
      "Neptune\n"
     ]
    }
   ],
   "source": [
    "planets = ['Mercury', 'Venus', 'Earth', 'Mars', 'Jupiter', 'Saturn', 'Uranus', 'Neptune']\n",
    "print(type(planets))\n",
    "print(planets)\n",
    "print(planets[0])\n",
    "print(planets[5])\n",
    "print(planets[-1])"
   ]
  },
  {
   "cell_type": "markdown",
   "metadata": {
    "collapsed": true
   },
   "source": [
    "A list can contain elements with different data types. They can even contain other lists. "
   ]
  },
  {
   "cell_type": "code",
   "execution_count": 10,
   "metadata": {},
   "outputs": [
    {
     "name": "stdout",
     "output_type": "stream",
     "text": [
      "<class 'list'>\n",
      "<class 'bool'>\n",
      "<class 'str'>\n",
      "<class 'int'>\n",
      "<class 'float'>\n",
      "<class 'list'>\n"
     ]
    }
   ],
   "source": [
    "varied_list = [False, \"one\", 2, 3.0, [4,5,6]]\n",
    "print(type(varied_list))\n",
    "print(type(varied_list[0]))\n",
    "print(type(varied_list[1]))\n",
    "print(type(varied_list[2]))\n",
    "print(type(varied_list[3]))\n",
    "print(type(varied_list[4]))"
   ]
  },
  {
   "cell_type": "code",
   "execution_count": 11,
   "metadata": {},
   "outputs": [
    {
     "name": "stdout",
     "output_type": "stream",
     "text": [
      "5\n"
     ]
    }
   ],
   "source": [
    "print(varied_list[-1][1])"
   ]
  },
  {
   "cell_type": "markdown",
   "metadata": {},
   "source": [
    "We can use **slicing** to select multiple elements in a list. "
   ]
  },
  {
   "cell_type": "code",
   "execution_count": 12,
   "metadata": {},
   "outputs": [
    {
     "name": "stdout",
     "output_type": "stream",
     "text": [
      "[1, 2, 3]\n",
      "[4, 5, 6]\n",
      "[7, 8, 9]\n"
     ]
    }
   ],
   "source": [
    "digit_list = [1,2,3,4,5,6,7,8,9]\n",
    "low_list = digit_list[:3]\n",
    "mid_list = digit_list[3:6]\n",
    "high_list = digit_list[6:]\n",
    "\n",
    "print(low_list)\n",
    "print(mid_list)\n",
    "print(high_list)"
   ]
  },
  {
   "cell_type": "markdown",
   "metadata": {},
   "source": [
    "Several tools are available for modifying the contents of a list. "
   ]
  },
  {
   "cell_type": "code",
   "execution_count": 13,
   "metadata": {},
   "outputs": [
    {
     "name": "stdout",
     "output_type": "stream",
     "text": [
      "['apple', 'ornge', 'lemon', 'grap', 'peach']\n"
     ]
    }
   ],
   "source": [
    "Fruit = ['apple', 'ornge', 'lemon', 'grap', 'peach']\n",
    "print(Fruit)"
   ]
  },
  {
   "cell_type": "code",
   "execution_count": 14,
   "metadata": {},
   "outputs": [
    {
     "name": "stdout",
     "output_type": "stream",
     "text": [
      "['apple', 'orange', 'lemon', 'grape', 'peach']\n"
     ]
    }
   ],
   "source": [
    "Fruit[1] = 'orange'\n",
    "Fruit[3] = 'grape'\n",
    "print(Fruit)"
   ]
  },
  {
   "cell_type": "code",
   "execution_count": 15,
   "metadata": {},
   "outputs": [
    {
     "name": "stdout",
     "output_type": "stream",
     "text": [
      "['apple', 'plum', 'orange', 'lemon', 'grape', 'peach']\n"
     ]
    }
   ],
   "source": [
    "# Insert plum as the second element of the list.\n",
    "Fruit.insert(1, 'plum')\n",
    "print(Fruit)"
   ]
  },
  {
   "cell_type": "code",
   "execution_count": 16,
   "metadata": {},
   "outputs": [
    {
     "name": "stdout",
     "output_type": "stream",
     "text": [
      "['apple', 'plum', 'orange', 'lemon', 'lime', 'grape', 'peach']\n"
     ]
    }
   ],
   "source": [
    "# Insert plum as the fifth element of the list.\n",
    "Fruit.insert(4, 'lime')\n",
    "print(Fruit)"
   ]
  },
  {
   "cell_type": "code",
   "execution_count": 17,
   "metadata": {},
   "outputs": [
    {
     "name": "stdout",
     "output_type": "stream",
     "text": [
      "['apple', 'plum', 'orange', 'lemon', 'lime', 'grape', 'peach', 'strawberry', 'raspberry']\n"
     ]
    }
   ],
   "source": [
    "# Add strawberry and raspberry to the end of the Fruit list.\n",
    "Fruit.append('strawberry')\n",
    "Fruit.append('raspberry')\n",
    "print(Fruit)"
   ]
  },
  {
   "cell_type": "code",
   "execution_count": 18,
   "metadata": {},
   "outputs": [
    {
     "name": "stdout",
     "output_type": "stream",
     "text": [
      "['apple', 'plum', 'lemon', 'lime', 'grape', 'peach', 'strawberry', 'raspberry']\n"
     ]
    }
   ],
   "source": [
    "# Delete the third element of the Fruit list.\n",
    "del Fruit[2]\n",
    "print(Fruit)"
   ]
  },
  {
   "cell_type": "code",
   "execution_count": 19,
   "metadata": {},
   "outputs": [
    {
     "name": "stdout",
     "output_type": "stream",
     "text": [
      "['lemon', 'lime', 'grape', 'peach', 'strawberry', 'raspberry']\n"
     ]
    }
   ],
   "source": [
    "# Delete the first two elements of the Fruit list.\n",
    "del Fruit[0]\n",
    "del Fruit[0]\n",
    "print(Fruit)"
   ]
  },
  {
   "cell_type": "code",
   "execution_count": 20,
   "metadata": {},
   "outputs": [
    {
     "name": "stdout",
     "output_type": "stream",
     "text": [
      "['lemon', 'lime', 'grape', 'strawberry', 'raspberry']\n"
     ]
    }
   ],
   "source": [
    "# Remove the first instance of peach from the list.\n",
    "Fruit.remove('peach')\n",
    "print(Fruit)"
   ]
  },
  {
   "cell_type": "markdown",
   "metadata": {
    "collapsed": true
   },
   "source": [
    "We can use the `copy()` method of a list to create a new list with the same contents. "
   ]
  },
  {
   "cell_type": "code",
   "execution_count": 21,
   "metadata": {},
   "outputs": [
    {
     "name": "stdout",
     "output_type": "stream",
     "text": [
      "['x', 'y', 'z']\n",
      "['x', 'y', 'z']\n",
      "['x', 'y', 'z', 'w']\n",
      "['x', 'y', 'z', 'w']\n"
     ]
    }
   ],
   "source": [
    "list_a = ['x','y','z']\n",
    "list_b = list_a\n",
    "print(list_a)\n",
    "print(list_b)\n",
    "\n",
    "list_a.append('w')\n",
    "print(list_a)\n",
    "print(list_b)"
   ]
  },
  {
   "cell_type": "code",
   "execution_count": 22,
   "metadata": {},
   "outputs": [
    {
     "name": "stdout",
     "output_type": "stream",
     "text": [
      "['x', 'y', 'z', 'w', 'u']\n",
      "['x', 'y', 'z', 'w', 'u']\n",
      "['x', 'y', 'z', 'w']\n",
      "['x', 'y', 'z', 'w']\n"
     ]
    }
   ],
   "source": [
    "list_c = list_a.copy()\n",
    "list_d = list_a[:]\n",
    "list_a.append('u')\n",
    "\n",
    "print(list_a)\n",
    "print(list_b)\n",
    "print(list_c)\n",
    "print(list_d)"
   ]
  }
 ],
 "metadata": {
  "kernelspec": {
   "display_name": "Python 3",
   "language": "python",
   "name": "python3"
  },
  "language_info": {
   "codemirror_mode": {
    "name": "ipython",
    "version": 3
   },
   "file_extension": ".py",
   "mimetype": "text/x-python",
   "name": "python",
   "nbconvert_exporter": "python",
   "pygments_lexer": "ipython3",
   "version": "3.6.8"
  }
 },
 "nbformat": 4,
 "nbformat_minor": 2
}
