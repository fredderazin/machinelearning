{
 "cells": [
  {
   "cell_type": "markdown",
   "metadata": {},
   "source": [
    "## Project 02\n",
    "\n",
    "**Type your name here**\n",
    "\n",
    "**DSCI 35600 - Machine Learning**\n"
   ]
  },
  {
   "cell_type": "markdown",
   "metadata": {},
   "source": [
    "## Part A: Import Packages and Load Dataset"
   ]
  },
  {
   "cell_type": "markdown",
   "metadata": {},
   "source": [
    "In the cell below, import the following packages using the standard aliases: `numpy`, `matplotlib.pyplot`, and `pandas`. Also import the following classes and functions from `sklearn`: `train_test_split`, `LogisticRegression`, `KNeighborsClassifier`, `DecisionTreeClassifier`, `RandomForestClassifier`, `StandardScaler`, and `OneHotEncoder`.  "
   ]
  },
  {
   "cell_type": "code",
   "execution_count": 7,
   "metadata": {},
   "outputs": [],
   "source": [
    "import numpy as np\n",
    "import matplotlib.pyplot as plt\n",
    "import pandas as pd\n",
    "\n",
    "from sklearn.linear_model import LogisticRegression\n",
    "from sklearn.neighbors import KNeighborsClassifier\n",
    "from sklearn.tree import DecisionTreeClassifier\n",
    "from sklearn.ensemble import RandomForestClassifier\n",
    "\n",
    "from sklearn.model_selection import train_test_split\n",
    "from sklearn.preprocessing import OneHotEncoder\n",
    "from sklearn.preprocessing import StandardScaler\n",
    "\n",
    "from sklearn.model_selection import GridSearchCV\n",
    "\n",
    "import warnings\n",
    "warnings.filterwarnings('ignore')"
   ]
  },
  {
   "cell_type": "markdown",
   "metadata": {},
   "source": [
    "Use `pandas` to load the contents of the tab-separated file `Project02_data.txt` into a dataframe called `df`. Display the first 10 rows of this dataframe."
   ]
  },
  {
   "cell_type": "code",
   "execution_count": 8,
   "metadata": {},
   "outputs": [
    {
     "data": {
      "text/html": [
       "<div>\n",
       "<style scoped>\n",
       "    .dataframe tbody tr th:only-of-type {\n",
       "        vertical-align: middle;\n",
       "    }\n",
       "\n",
       "    .dataframe tbody tr th {\n",
       "        vertical-align: top;\n",
       "    }\n",
       "\n",
       "    .dataframe thead th {\n",
       "        text-align: right;\n",
       "    }\n",
       "</style>\n",
       "<table border=\"1\" class=\"dataframe\">\n",
       "  <thead>\n",
       "    <tr style=\"text-align: right;\">\n",
       "      <th></th>\n",
       "      <th>F1</th>\n",
       "      <th>F2</th>\n",
       "      <th>F3</th>\n",
       "      <th>F4</th>\n",
       "      <th>F5</th>\n",
       "      <th>F6</th>\n",
       "      <th>y</th>\n",
       "    </tr>\n",
       "  </thead>\n",
       "  <tbody>\n",
       "    <tr>\n",
       "      <th>0</th>\n",
       "      <td>-34.49</td>\n",
       "      <td>-0.168</td>\n",
       "      <td>572.572641</td>\n",
       "      <td>259.140016</td>\n",
       "      <td>P</td>\n",
       "      <td>C</td>\n",
       "      <td>2</td>\n",
       "    </tr>\n",
       "    <tr>\n",
       "      <th>1</th>\n",
       "      <td>-0.10</td>\n",
       "      <td>-2.595</td>\n",
       "      <td>470.205186</td>\n",
       "      <td>229.802866</td>\n",
       "      <td>Q</td>\n",
       "      <td>A</td>\n",
       "      <td>0</td>\n",
       "    </tr>\n",
       "    <tr>\n",
       "      <th>2</th>\n",
       "      <td>6.12</td>\n",
       "      <td>0.638</td>\n",
       "      <td>445.802367</td>\n",
       "      <td>185.265373</td>\n",
       "      <td>Q</td>\n",
       "      <td>A</td>\n",
       "      <td>3</td>\n",
       "    </tr>\n",
       "    <tr>\n",
       "      <th>3</th>\n",
       "      <td>12.37</td>\n",
       "      <td>1.459</td>\n",
       "      <td>548.148923</td>\n",
       "      <td>175.099249</td>\n",
       "      <td>Q</td>\n",
       "      <td>C</td>\n",
       "      <td>1</td>\n",
       "    </tr>\n",
       "    <tr>\n",
       "      <th>4</th>\n",
       "      <td>9.29</td>\n",
       "      <td>2.099</td>\n",
       "      <td>338.163010</td>\n",
       "      <td>123.615535</td>\n",
       "      <td>P</td>\n",
       "      <td>B</td>\n",
       "      <td>0</td>\n",
       "    </tr>\n",
       "    <tr>\n",
       "      <th>5</th>\n",
       "      <td>-20.64</td>\n",
       "      <td>-0.269</td>\n",
       "      <td>569.854093</td>\n",
       "      <td>130.333898</td>\n",
       "      <td>Q</td>\n",
       "      <td>A</td>\n",
       "      <td>0</td>\n",
       "    </tr>\n",
       "    <tr>\n",
       "      <th>6</th>\n",
       "      <td>-17.49</td>\n",
       "      <td>-0.832</td>\n",
       "      <td>739.996886</td>\n",
       "      <td>243.422914</td>\n",
       "      <td>P</td>\n",
       "      <td>C</td>\n",
       "      <td>2</td>\n",
       "    </tr>\n",
       "    <tr>\n",
       "      <th>7</th>\n",
       "      <td>20.53</td>\n",
       "      <td>-2.660</td>\n",
       "      <td>484.864777</td>\n",
       "      <td>172.923555</td>\n",
       "      <td>Q</td>\n",
       "      <td>C</td>\n",
       "      <td>3</td>\n",
       "    </tr>\n",
       "    <tr>\n",
       "      <th>8</th>\n",
       "      <td>-19.54</td>\n",
       "      <td>1.432</td>\n",
       "      <td>854.737353</td>\n",
       "      <td>77.289031</td>\n",
       "      <td>P</td>\n",
       "      <td>D</td>\n",
       "      <td>1</td>\n",
       "    </tr>\n",
       "    <tr>\n",
       "      <th>9</th>\n",
       "      <td>27.42</td>\n",
       "      <td>0.274</td>\n",
       "      <td>490.601855</td>\n",
       "      <td>233.826944</td>\n",
       "      <td>Q</td>\n",
       "      <td>D</td>\n",
       "      <td>2</td>\n",
       "    </tr>\n",
       "  </tbody>\n",
       "</table>\n",
       "</div>"
      ],
      "text/plain": [
       "      F1     F2          F3          F4 F5 F6  y\n",
       "0 -34.49 -0.168  572.572641  259.140016  P  C  2\n",
       "1  -0.10 -2.595  470.205186  229.802866  Q  A  0\n",
       "2   6.12  0.638  445.802367  185.265373  Q  A  3\n",
       "3  12.37  1.459  548.148923  175.099249  Q  C  1\n",
       "4   9.29  2.099  338.163010  123.615535  P  B  0\n",
       "5 -20.64 -0.269  569.854093  130.333898  Q  A  0\n",
       "6 -17.49 -0.832  739.996886  243.422914  P  C  2\n",
       "7  20.53 -2.660  484.864777  172.923555  Q  C  3\n",
       "8 -19.54  1.432  854.737353   77.289031  P  D  1\n",
       "9  27.42  0.274  490.601855  233.826944  Q  D  2"
      ]
     },
     "execution_count": 8,
     "metadata": {},
     "output_type": "execute_result"
    }
   ],
   "source": [
    "df = pd.read_csv('Project02_data.txt', sep='\\t')\n",
    "df.head(10)"
   ]
  },
  {
   "cell_type": "code",
   "execution_count": 9,
   "metadata": {},
   "outputs": [
    {
     "data": {
      "text/plain": [
       "['F1', 'F2', 'F3', 'F4', 'F5', 'F6', 'y']"
      ]
     },
     "execution_count": 9,
     "metadata": {},
     "output_type": "execute_result"
    }
   ],
   "source": [
    "list(df.columns)"
   ]
  },
  {
   "cell_type": "code",
   "execution_count": 10,
   "metadata": {},
   "outputs": [
    {
     "name": "stdout",
     "output_type": "stream",
     "text": [
      "Categorical variables:\n",
      "['F5', 'F6']\n",
      "2\n"
     ]
    }
   ],
   "source": [
    "s = (df.dtypes == 'object')\n",
    "object_cols = list(s[s].index)\n",
    "\n",
    "print(\"Categorical variables:\")\n",
    "print(object_cols)\n",
    "\n",
    "cols = len(object_cols)\n",
    "\n",
    "print(cols)"
   ]
  },
  {
   "cell_type": "markdown",
   "metadata": {},
   "source": [
    "Your goal in this assignment will be to use features F1 - F6 to predict one of four possible values for y: 0, 1, 2, or 3. "
   ]
  },
  {
   "cell_type": "markdown",
   "metadata": {},
   "source": [
    "## Part B: Preparing the Data\n",
    "\n",
    "In the cell below, create the following arrays:\n",
    "\n",
    "* `X_num` should contain the columns of `df` associated with numerical variables. \n",
    "* `X_cat` should contain the columns of `df` associated with categorical variables. \n",
    "* `y` should be a 1D array contain the values of the label, `y`. \n",
    "\n",
    "Print the shapes of these three arrays."
   ]
  },
  {
   "cell_type": "code",
   "execution_count": 11,
   "metadata": {},
   "outputs": [
    {
     "name": "stdout",
     "output_type": "stream",
     "text": [
      "This is X_num.shape (1687, 4)\n",
      "This is X_ca.shape (1687, 2)\n",
      "This is y.shape (1687,)\n"
     ]
    }
   ],
   "source": [
    "X_num = df.iloc[0:,[0,1,2,3]].values\n",
    "X_cat = df.iloc[0:,[4,5]].values.astype('str')\n",
    "y = df.iloc[0:,-1].values\n",
    "\n",
    "print('This is X_num.shape', X_num.shape)\n",
    "print('This is X_ca.shape', X_cat.shape)\n",
    "print('This is y.shape', y.shape)"
   ]
  },
  {
   "cell_type": "markdown",
   "metadata": {},
   "source": [
    "#### Numerical Features\n",
    "Split `Xnum` into training and validation sets called `X_num_train` and `X_num_val`. Use an 80/20 split, and set `random_state=1`. \n",
    "\n",
    "Then use the `StandardScaler` class to scale the numerical data. Name the resulting arrays `X_sca_train` and `X_sca_val`. Print the shape of these two arrays. "
   ]
  },
  {
   "cell_type": "code",
   "execution_count": 12,
   "metadata": {},
   "outputs": [
    {
     "name": "stdout",
     "output_type": "stream",
     "text": [
      "This is X_sca_train.shape: (1349, 4)\n",
      "This is X_sca_val.shape: (338, 4)\n"
     ]
    }
   ],
   "source": [
    "X_num_train, X_num_val, y_train, y_val = train_test_split(X_num, y, test_size=0.20, random_state=1)\n",
    "\n",
    "scaler = StandardScaler()\n",
    "X_sca_train = scaler.fit_transform(X_num_train)\n",
    "X_sca_val = scaler.fit_transform(X_num_val)\n",
    "\n",
    "print('This is X_sca_train.shape:', X_sca_train.shape)\n",
    "print('This is X_sca_val.shape:', X_sca_val.shape)"
   ]
  },
  {
   "cell_type": "markdown",
   "metadata": {},
   "source": [
    "#### Categorical Features\n",
    "\n",
    "Use the `OneHotEncoder` class to encode the categorical feature array (setting `sparse=False`). Store the results in an array called `X_enc`. \n",
    "\n",
    "Split `X_enc` into training and validation sets called `X_enc_train` and `X_enc_val`. Use an 80/20 split, and set `random_state=1`. Print the shapes of these two arrays."
   ]
  },
  {
   "cell_type": "code",
   "execution_count": 13,
   "metadata": {},
   "outputs": [
    {
     "name": "stdout",
     "output_type": "stream",
     "text": [
      "This is X_enc_train.shape: (1349, 6)\n",
      "This is X_enc_val.shape: (338, 6)\n"
     ]
    }
   ],
   "source": [
    "Encoder = OneHotEncoder(sparse=False)\n",
    "\n",
    "X_enc = Encoder.fit_transform(X_cat)\n",
    "\n",
    "X_enc_train, X_enc_val, y_train, y_val = train_test_split(X_enc, y, test_size=0.20, random_state=1)\n",
    "\n",
    "print('This is X_enc_train.shape:', X_enc_train.shape)\n",
    "print('This is X_enc_val.shape:', X_enc_val.shape)"
   ]
  },
  {
   "cell_type": "markdown",
   "metadata": {},
   "source": [
    "#### Combine Numerical and Categorial Features\n",
    "\n",
    "Use `np.hstack()` to combine `X_sca_train` and `X_enc_train` into an array called `X_train`. Then combine `X_sca_val` and `X_enc_val` into an array called `X_val`. Print the shapes of the two new arrays."
   ]
  },
  {
   "cell_type": "code",
   "execution_count": 14,
   "metadata": {},
   "outputs": [
    {
     "name": "stdout",
     "output_type": "stream",
     "text": [
      "This is X_train.shape: (1349, 10)\n",
      "This is X_enc_val.shape: (338, 10)\n"
     ]
    }
   ],
   "source": [
    "X_train = np.hstack([X_sca_train, X_enc_train])\n",
    "X_val = np.hstack([X_sca_val, X_enc_val])\n",
    "\n",
    "print('This is X_train.shape:', X_train.shape)\n",
    "print('This is X_enc_val.shape:', X_val.shape)"
   ]
  },
  {
   "cell_type": "markdown",
   "metadata": {},
   "source": [
    "## Part C: Logistic Regression Model\n",
    "\n",
    "In the cell below, create and fit several logistic regression models, each with a different value for the regularization parameter `C`. In particular, consider 100 models with `C=10**k`, where `k` ranges from -4 to 0. For each model, log the training and validation accuracies in separate lists, and then plot these lists against `k`. Label your axes, and display a legend for your plot. \n",
    "\n",
    "Set `solver='lbfgs'` and `multi_class='ovr'` when creating your logistic regression models. "
   ]
  },
  {
   "cell_type": "code",
   "execution_count": 15,
   "metadata": {},
   "outputs": [
    {
     "data": {
      "image/png": "[encoded data removed]",
      "text/plain": [
       "<Figure size 432x288 with 1 Axes>"
      ]
     },
     "metadata": {
      "needs_background": "light"
     },
     "output_type": "display_data"
    }
   ],
   "source": [
    "tr_acc = []\n",
    "va_acc = []\n",
    "exp_list = np.linspace(-4, 0, 100)\n",
    "\n",
    "for k in exp_list:\n",
    "    LinReg = LogisticRegression(solver='lbfgs', C=10**k, multi_class='ovr')\n",
    "    LinReg.fit(X_train, y_train)\n",
    "    tr_acc.append(LinReg.score(X_train, y_train))\n",
    "    va_acc.append(LinReg.score(X_val, y_val))\n",
    "\n",
    "plt.figure(figsize=[6,4])\n",
    "plt.plot(exp_list, tr_acc, label='Training Accuracy')\n",
    "plt.plot(exp_list, va_acc, label='Validation Accuracy')\n",
    "plt.xlabel('LogC')\n",
    "plt.ylabel('Accuracy')\n",
    "plt.legend()\n",
    "plt.show()"
   ]
  },
  {
   "cell_type": "markdown",
   "metadata": {},
   "source": [
    "Use `np.argmax` to find the value of `k` that results in the largest validation accuracy. Print this result."
   ]
  },
  {
   "cell_type": "code",
   "execution_count": 16,
   "metadata": {},
   "outputs": [
    {
     "name": "stdout",
     "output_type": "stream",
     "text": [
      "This is the k that results in the largest validation accuracy:\n",
      " -2.8686868686868685\n"
     ]
    }
   ],
   "source": [
    "idx = np.argmax(va_acc)\n",
    "k = exp_list[idx]\n",
    "print('This is the k that results in the largest validation accuracy:\\n', k)"
   ]
  },
  {
   "cell_type": "markdown",
   "metadata": {},
   "source": [
    "Create a logistic regression model using the previously determined value for the regularization parameter. Print the training and validation accuracies for this model, clearly indicating which is which."
   ]
  },
  {
   "cell_type": "code",
   "execution_count": 17,
   "metadata": {},
   "outputs": [
    {
     "name": "stdout",
     "output_type": "stream",
     "text": [
      "This is training accuracy:\n",
      " 0.26464047442550037\n",
      "This is validation accuracy:\n",
      " 0.2988165680473373\n"
     ]
    }
   ],
   "source": [
    "LinRegModel = LogisticRegression(solver='lbfgs', C=10**k, multi_class='ovr')\n",
    "\n",
    "LinRegModel.fit(X_train, y_train)\n",
    "\n",
    "print('This is training accuracy:\\n', LinRegModel.score(X_train, y_train))\n",
    "print('This is validation accuracy:\\n', LinRegModel.score(X_val, y_val))"
   ]
  },
  {
   "cell_type": "markdown",
   "metadata": {},
   "source": [
    "## Part D: K-Nearest Neighbors Model"
   ]
  },
  {
   "cell_type": "markdown",
   "metadata": {},
   "source": [
    "In the cell below, create and fit several KNN models, each with a different value of `K`. In particular, consider 25 models with values of `K` ranging from 1 to 25. For each model, log the training and validation accuracies in separate lists, and then plot these lists against `K`. Label your axes, and display a legend for your plot. "
   ]
  },
  {
   "cell_type": "code",
   "execution_count": 18,
   "metadata": {},
   "outputs": [
    {
     "data": {
      "image/png": "[encoded data removed]",
      "text/plain": [
       "<Figure size 432x288 with 1 Axes>"
      ]
     },
     "metadata": {
      "needs_background": "light"
     },
     "output_type": "display_data"
    },
    {
     "name": "stdout",
     "output_type": "stream",
     "text": [
      "CPU times: user 1.88 s, sys: 45.8 ms, total: 1.93 s\n",
      "Wall time: 1.45 s\n"
     ]
    }
   ],
   "source": [
    "%%time\n",
    "tr_acc = []\n",
    "va_acc = []\n",
    "k_list = np.linspace(1, 24, 25).astype('int')\n",
    "\n",
    "for k in k_list:\n",
    "    KnnModel = KNeighborsClassifier(k)\n",
    "    KnnModel.fit(X_train, y_train)\n",
    "    tr_acc.append(KnnModel.score(X_train, y_train))\n",
    "    va_acc.append(KnnModel.score(X_val, y_val))\n",
    "\n",
    "plt.figure(figsize=[6,4])\n",
    "plt.plot(k_list, tr_acc, label='Training Accuracy')\n",
    "plt.plot(k_list, va_acc, label='Validation Accuracy')\n",
    "plt.xlabel('K')\n",
    "plt.ylabel('Accuracy')\n",
    "plt.legend()\n",
    "plt.show()"
   ]
  },
  {
   "cell_type": "markdown",
   "metadata": {},
   "source": [
    "Use `np.argmax` to find the value of `K` that results in the largest validation accuracy. Print this result. "
   ]
  },
  {
   "cell_type": "code",
   "execution_count": 19,
   "metadata": {},
   "outputs": [
    {
     "name": "stdout",
     "output_type": "stream",
     "text": [
      "This is the k that results in the largest validation accuracy:\n",
      " 7\n"
     ]
    }
   ],
   "source": [
    "idx = np.argmax(va_acc)\n",
    "k_val = k_list[idx]\n",
    "print('This is the k that results in the largest validation accuracy:\\n', k_val)"
   ]
  },
  {
   "cell_type": "markdown",
   "metadata": {},
   "source": [
    "Create a KNN model using the previously determined value of `K`. Print the training and validation accuracies for this model, clearly indicating which is which."
   ]
  },
  {
   "cell_type": "code",
   "execution_count": 20,
   "metadata": {},
   "outputs": [
    {
     "name": "stdout",
     "output_type": "stream",
     "text": [
      "This is training accuracy:\n",
      " 0.9236471460340994\n",
      "This is validation accuracy:\n",
      " 0.8875739644970414\n"
     ]
    }
   ],
   "source": [
    "KnnModel = KNeighborsClassifier(k_val)\n",
    "\n",
    "KnnModel.fit(X_train, y_train)\n",
    "\n",
    "print('This is training accuracy:\\n', KnnModel.score(X_train, y_train))\n",
    "print('This is validation accuracy:\\n', KnnModel.score(X_val, y_val))"
   ]
  },
  {
   "cell_type": "markdown",
   "metadata": {},
   "source": [
    "## Part E: Decision Tree Model\n",
    "\n",
    "In the cell below, create and fit several decision tree models, each with a different value for the `max_depth` parameter. In particular, consider models for every value of max_dept from 1 to 30. For each model, log the training and validation accuracies in separate lists, and then plot these lists against the max depth. Label your axes, and display a legend for your plot. \n",
    "\n",
    "Set a seed of 1 prior to training each of your models. This should be inside of your loop. "
   ]
  },
  {
   "cell_type": "code",
   "execution_count": 21,
   "metadata": {},
   "outputs": [
    {
     "data": {
      "image/png": "[encoded data removed]",
      "text/plain": [
       "<Figure size 432x288 with 1 Axes>"
      ]
     },
     "metadata": {
      "needs_background": "light"
     },
     "output_type": "display_data"
    }
   ],
   "source": [
    "tr_acc = []\n",
    "va_acc = []\n",
    "max_depth = range(1,30)\n",
    "\n",
    "np.random.seed(1)\n",
    "for d in max_depth:\n",
    "    np.random.seed(1)\n",
    "    DT_model = DecisionTreeClassifier(max_depth=d)\n",
    "    DT_model.fit(X_train, y_train)\n",
    "    tr_acc.append(DT_model.score(X_train, y_train))\n",
    "    va_acc.append(DT_model.score(X_val, y_val))\n",
    "    \n",
    "plt.figure(figsize=[6,4])\n",
    "plt.plot(max_depth, tr_acc, label='Training Accuracy')\n",
    "plt.plot(max_depth, va_acc, label='Validation Accuracy')\n",
    "plt.xlabel('Max Depth')\n",
    "plt.ylabel('Accuracy')\n",
    "plt.legend()\n",
    "plt.show()"
   ]
  },
  {
   "cell_type": "markdown",
   "metadata": {},
   "source": [
    "Use `np.argmax` to find the value of `max_depth` that results in the largest validation accuracy. Print this result. "
   ]
  },
  {
   "cell_type": "code",
   "execution_count": 22,
   "metadata": {},
   "outputs": [
    {
     "name": "stdout",
     "output_type": "stream",
     "text": [
      "This is the k that results in the largest validation accuracy:\n",
      " 17\n"
     ]
    }
   ],
   "source": [
    "idx = np.argmax(va_acc)\n",
    "best_d = max_depth[idx]\n",
    "print('This is the k that results in the largest validation accuracy:\\n', best_d)"
   ]
  },
  {
   "cell_type": "markdown",
   "metadata": {},
   "source": [
    "Create a tree model using the previously determined value of `max_depth`. Print the training and validation accuracies for this model, clearly indicating which is which.\n",
    "\n",
    "Set a seed of 1 at the beginning of this cell."
   ]
  },
  {
   "cell_type": "code",
   "execution_count": 23,
   "metadata": {},
   "outputs": [
    {
     "name": "stdout",
     "output_type": "stream",
     "text": [
      "This is training accuracy:\n",
      " 0.9985174203113417\n",
      "This is validation accuracy:\n",
      " 0.8402366863905325\n"
     ]
    }
   ],
   "source": [
    "np.random.seed(1)\n",
    "DT_model = DecisionTreeClassifier(max_depth = best_d)\n",
    "DT_model.fit(X_train, y_train)\n",
    "\n",
    "print('This is training accuracy:\\n', DT_model.score(X_train, y_train))\n",
    "print('This is validation accuracy:\\n', DT_model.score(X_val, y_val))"
   ]
  },
  {
   "cell_type": "markdown",
   "metadata": {},
   "source": [
    "## Part F: Random Forest Model\n",
    "\n",
    "In the cell below, create and fit several random forest models, each with a different value for the `max_depth` parameter. In particular, consider models for every value of max_dept from 1 to 30. Set `n_estimators=200` for each model. After training each model, log the training and validation accuracies in seperate lists, and then plot these lists against the max depth. Label your axes, and display a legend for your plot. \n",
    "\n",
    "Set a seed of 1 prior to training each of your models. This should be inside of your loop. "
   ]
  },
  {
   "cell_type": "code",
   "execution_count": 24,
   "metadata": {},
   "outputs": [
    {
     "data": {
      "image/png": "[encoded data removed]",
      "text/plain": [
       "<Figure size 432x288 with 1 Axes>"
      ]
     },
     "metadata": {
      "needs_background": "light"
     },
     "output_type": "display_data"
    },
    {
     "name": "stdout",
     "output_type": "stream",
     "text": [
      "CPU times: user 13.1 s, sys: 232 ms, total: 13.3 s\n",
      "Wall time: 13.5 s\n"
     ]
    }
   ],
   "source": [
    "%%time\n",
    "va_acc = []\n",
    "tr_acc = []\n",
    "depth_list = range(1,30)\n",
    "\n",
    "for k in depth_list:\n",
    "    np.random.seed(1)\n",
    "    RF_model_temp = RandomForestClassifier(n_estimators=200, max_depth=k, bootstrap=True, oob_score=True)\n",
    "    RF_model_temp.fit(X_train, y_train)\n",
    "    tr_acc.append(RF_model_temp.score(X_train, y_train))\n",
    "    va_acc.append(RF_model_temp.score(X_val, y_val))\n",
    "    \n",
    "plt.figure(figsize=[6,4])\n",
    "plt.plot(depth_list, tr_acc, label='Training Accuracy')\n",
    "plt.plot(depth_list, va_acc, label='Validation Accuracy')\n",
    "plt.xlabel('Max Depth')\n",
    "plt.ylabel('Accuracy')\n",
    "plt.legend()\n",
    "plt.show()"
   ]
  },
  {
   "cell_type": "markdown",
   "metadata": {},
   "source": [
    "Use `np.argmax` to find the value of `max_depth` that results in the largest validation accuracy. Print this result. "
   ]
  },
  {
   "cell_type": "code",
   "execution_count": 30,
   "metadata": {},
   "outputs": [
    {
     "name": "stdout",
     "output_type": "stream",
     "text": [
      "This is the k that results in the largest validation accuracy:\n",
      " 14\n"
     ]
    }
   ],
   "source": [
    "idx = np.argmax(va_acc)\n",
    "max_depth_k = depth_list[idx]\n",
    "print('This is the k that results in the largest validation accuracy:\\n', max_depth_k)"
   ]
  },
  {
   "cell_type": "markdown",
   "metadata": {},
   "source": [
    "Create a random forest model using the previously determined value of `max_depth` and `n_estimators=200`. Print the training and validation accuracies for this model, clearly indicating which is which.\n",
    "\n",
    "Set a seed of 1 at the beginning of this cell."
   ]
  },
  {
   "cell_type": "code",
   "execution_count": 35,
   "metadata": {},
   "outputs": [
    {
     "name": "stdout",
     "output_type": "stream",
     "text": [
      "This is training accuracy:\n",
      " 0.9992587101556709\n",
      "This is validation accuracy:\n",
      " 0.9319526627218935\n"
     ]
    }
   ],
   "source": [
    "np.random.seed(1)\n",
    "RF_model = RandomForestClassifier(n_estimators=200, max_depth=max_depth_k, bootstrap=True, oob_score=True)\n",
    "RF_model.fit(X_train, y_train)\n",
    "\n",
    "print('This is training accuracy:\\n', RF_model.score(X_train, y_train))\n",
    "print('This is validation accuracy:\\n', RF_model.score(X_val, y_val))"
   ]
  },
  {
   "cell_type": "markdown",
   "metadata": {},
   "source": [
    "## Part G: Summary\n",
    "\n",
    "Print the validation accuracies for each of the four models, clearly indicating which is which. "
   ]
  },
  {
   "cell_type": "code",
   "execution_count": 27,
   "metadata": {},
   "outputs": [
    {
     "name": "stdout",
     "output_type": "stream",
     "text": [
      "This is validation accuracy for Logistic Regression Model:\n",
      " 0.2988165680473373\n",
      "\n",
      "This is validation accuracy for Decision Tree Model:\n",
      " 0.8402366863905325\n",
      "\n",
      "This is validation accuracy for KNN Model:\n",
      " 0.8875739644970414\n",
      "\n",
      "This is validation accuracy for Random Forest Model:\n",
      " 0.9319526627218935\n"
     ]
    }
   ],
   "source": [
    "print('This is validation accuracy for Logistic Regression Model:\\n', LinRegModel.score(X_val, y_val))\n",
    "print()\n",
    "print('This is validation accuracy for Decision Tree Model:\\n', DT_model.score(X_val, y_val))\n",
    "print()\n",
    "print('This is validation accuracy for KNN Model:\\n', KnnModel.score(X_val, y_val))\n",
    "print()\n",
    "print('This is validation accuracy for Random Forest Model:\\n', RF_model.score(X_val, y_val) )"
   ]
  },
  {
   "cell_type": "markdown",
   "metadata": {},
   "source": [
    "## Part H:  Using GridSearchCV\n",
    "\n",
    "From the Part G: Summary above choose the the model with the highest validation accuracy (score).   It must have come from one of the following classifiers:  LogisticRegression, KNeighborsClassifier, DecisionTreeClassifier, RandomForestClassifier.   Now, you will try to improve its score by using GridSearchCV (see lecture 23) in the following way.\n",
    "\n",
    "In the cell below, create and fit several mdels belonging to the classifier family which had the highest validation accuracy (score).  Create a range of parameters in the *param_grid* (see lecture 23) which is suitable for your classifier, use the GridSearchCV, and print out best score and the best parameters using  \n",
    "*print(gscv.best_score_)*  and  *print(gscv.best_params_)*.\n",
    " \n"
   ]
  },
  {
   "cell_type": "code",
   "execution_count": 42,
   "metadata": {},
   "outputs": [
    {
     "name": "stdout",
     "output_type": "stream",
     "text": [
      "0.9340272614622057\n",
      "{'bootstrap': 'False', 'max_depth': 15, 'n_estimators': 400, 'oob_score': 'False'}\n"
     ]
    }
   ],
   "source": [
    "param_grid = [\n",
    "    {'n_estimators': np.arange(100,500,100), 'max_depth':range(1, 30), 'bootstrap':['True','False'], 'oob_score':['True', 'False']}\n",
    "]\n",
    "\n",
    "RandomForest_model = RandomForestClassifier()\n",
    "  \n",
    "Grid_search_cv = GridSearchCV(RandomForest_model, param_grid, cv=5, scoring='accuracy', refit=True, iid=False)\n",
    "\n",
    "Grid_search_cv.fit(X_train, y_train)\n",
    "\n",
    "print(Grid_search_cv.best_score_)\n",
    "print(Grid_search_cv.best_params_)"
   ]
  }
 ],
 "metadata": {
  "kernelspec": {
   "display_name": "Python 3",
   "language": "python",
   "name": "python3"
  },
  "language_info": {
   "codemirror_mode": {
    "name": "ipython",
    "version": 3
   },
   "file_extension": ".py",
   "mimetype": "text/x-python",
   "name": "python",
   "nbconvert_exporter": "python",
   "pygments_lexer": "ipython3",
   "version": "3.8.5"
  }
 },
 "nbformat": 4,
 "nbformat_minor": 2
}
