{
 "cells": [
  {
   "cell_type": "markdown",
   "metadata": {},
   "source": [
    "## Project 01\n",
    "\n",
    "**Type your name here**\n",
    "\n",
    "**DSCI 35600 - Machine Learning**"
   ]
  },
  {
   "cell_type": "markdown",
   "metadata": {},
   "source": [
    "## Part A: Import Packages and Load Dataset"
   ]
  },
  {
   "cell_type": "markdown",
   "metadata": {},
   "source": [
    "In the cell below, import the following packages using the standard aliases: `numpy`, `matplotlib.pyplot`, and `pandas`. Also import the following classes and functions from `sklearn`: `train_test_split`, `LogisticRegression`, `KNeighborsClassifier`, `DecisionTreeClassifier`, `RandomForestClassifier`, `StandardScaler`, and `OneHotEncoder`.  "
   ]
  },
  {
   "cell_type": "code",
   "execution_count": 2,
   "metadata": {},
   "outputs": [],
   "source": [
    "import numpy as np\n",
    "import matplotlib.pyplot as plt\n",
    "import pandas as pd\n",
    "\n",
    "from sklearn.linear_model import LogisticRegression\n",
    "from sklearn.neighbors import KNeighborsClassifier\n",
    "from sklearn.tree import DecisionTreeClassifier\n",
    "from sklearn.ensemble import RandomForestClassifier\n",
    "\n",
    "from sklearn.model_selection import train_test_split\n",
    "from sklearn.preprocessing import OneHotEncoder\n",
    "from sklearn.preprocessing import StandardScaler"
   ]
  },
  {
   "cell_type": "markdown",
   "metadata": {},
   "source": [
    "Use `pandas` to load the contents of the tab-separated file `hw_11_data.txt` into a dataframe called `df`. Display the first 10 rows of this dataframe."
   ]
  },
  {
   "cell_type": "code",
   "execution_count": 3,
   "metadata": {},
   "outputs": [
    {
     "data": {
      "text/html": [
       "<div>\n",
       "<style scoped>\n",
       "    .dataframe tbody tr th:only-of-type {\n",
       "        vertical-align: middle;\n",
       "    }\n",
       "\n",
       "    .dataframe tbody tr th {\n",
       "        vertical-align: top;\n",
       "    }\n",
       "\n",
       "    .dataframe thead th {\n",
       "        text-align: right;\n",
       "    }\n",
       "</style>\n",
       "<table border=\"1\" class=\"dataframe\">\n",
       "  <thead>\n",
       "    <tr style=\"text-align: right;\">\n",
       "      <th></th>\n",
       "      <th>F1</th>\n",
       "      <th>F2</th>\n",
       "      <th>F3</th>\n",
       "      <th>F4</th>\n",
       "      <th>F5</th>\n",
       "      <th>y</th>\n",
       "    </tr>\n",
       "  </thead>\n",
       "  <tbody>\n",
       "    <tr>\n",
       "      <th>0</th>\n",
       "      <td>15.69</td>\n",
       "      <td>-0.771</td>\n",
       "      <td>550.880459</td>\n",
       "      <td>P</td>\n",
       "      <td>D</td>\n",
       "      <td>0</td>\n",
       "    </tr>\n",
       "    <tr>\n",
       "      <th>1</th>\n",
       "      <td>-16.81</td>\n",
       "      <td>1.959</td>\n",
       "      <td>588.523801</td>\n",
       "      <td>Q</td>\n",
       "      <td>C</td>\n",
       "      <td>3</td>\n",
       "    </tr>\n",
       "    <tr>\n",
       "      <th>2</th>\n",
       "      <td>21.09</td>\n",
       "      <td>-1.550</td>\n",
       "      <td>660.881834</td>\n",
       "      <td>P</td>\n",
       "      <td>B</td>\n",
       "      <td>2</td>\n",
       "    </tr>\n",
       "    <tr>\n",
       "      <th>3</th>\n",
       "      <td>15.64</td>\n",
       "      <td>-1.623</td>\n",
       "      <td>374.414543</td>\n",
       "      <td>Q</td>\n",
       "      <td>C</td>\n",
       "      <td>0</td>\n",
       "    </tr>\n",
       "    <tr>\n",
       "      <th>4</th>\n",
       "      <td>14.25</td>\n",
       "      <td>1.426</td>\n",
       "      <td>446.714120</td>\n",
       "      <td>Q</td>\n",
       "      <td>B</td>\n",
       "      <td>0</td>\n",
       "    </tr>\n",
       "    <tr>\n",
       "      <th>5</th>\n",
       "      <td>21.54</td>\n",
       "      <td>1.231</td>\n",
       "      <td>525.126448</td>\n",
       "      <td>P</td>\n",
       "      <td>D</td>\n",
       "      <td>2</td>\n",
       "    </tr>\n",
       "    <tr>\n",
       "      <th>6</th>\n",
       "      <td>-14.05</td>\n",
       "      <td>1.608</td>\n",
       "      <td>343.264320</td>\n",
       "      <td>P</td>\n",
       "      <td>B</td>\n",
       "      <td>3</td>\n",
       "    </tr>\n",
       "    <tr>\n",
       "      <th>7</th>\n",
       "      <td>-21.52</td>\n",
       "      <td>-1.858</td>\n",
       "      <td>549.753447</td>\n",
       "      <td>Q</td>\n",
       "      <td>B</td>\n",
       "      <td>1</td>\n",
       "    </tr>\n",
       "    <tr>\n",
       "      <th>8</th>\n",
       "      <td>12.31</td>\n",
       "      <td>-0.941</td>\n",
       "      <td>507.148376</td>\n",
       "      <td>Q</td>\n",
       "      <td>D</td>\n",
       "      <td>0</td>\n",
       "    </tr>\n",
       "    <tr>\n",
       "      <th>9</th>\n",
       "      <td>-24.83</td>\n",
       "      <td>-1.940</td>\n",
       "      <td>627.040100</td>\n",
       "      <td>Q</td>\n",
       "      <td>B</td>\n",
       "      <td>1</td>\n",
       "    </tr>\n",
       "  </tbody>\n",
       "</table>\n",
       "</div>"
      ],
      "text/plain": [
       "      F1     F2          F3 F4 F5  y\n",
       "0  15.69 -0.771  550.880459  P  D  0\n",
       "1 -16.81  1.959  588.523801  Q  C  3\n",
       "2  21.09 -1.550  660.881834  P  B  2\n",
       "3  15.64 -1.623  374.414543  Q  C  0\n",
       "4  14.25  1.426  446.714120  Q  B  0\n",
       "5  21.54  1.231  525.126448  P  D  2\n",
       "6 -14.05  1.608  343.264320  P  B  3\n",
       "7 -21.52 -1.858  549.753447  Q  B  1\n",
       "8  12.31 -0.941  507.148376  Q  D  0\n",
       "9 -24.83 -1.940  627.040100  Q  B  1"
      ]
     },
     "execution_count": 3,
     "metadata": {},
     "output_type": "execute_result"
    }
   ],
   "source": [
    "df = pd.read_csv('Project01_data.txt', sep='\\t')\n",
    "df.head(10)"
   ]
  },
  {
   "cell_type": "markdown",
   "metadata": {},
   "source": [
    "Your goal in this assignment will be to use features F1 - F6 to predict one of four possible values for y: 0, 1, 2, or 3. "
   ]
  },
  {
   "cell_type": "markdown",
   "metadata": {},
   "source": [
    "## Part B: Preparing the Data\n",
    "\n",
    "In the cell below, create the following arrays:\n",
    "\n",
    "* `X_num` should contain the columns of `df` associated with numerical variables. \n",
    "* `X_cat` should contain the columns of `df` associated with categorical variables. \n",
    "* `y` should be a 1D array contain the values of the label, `y`. \n",
    "\n",
    "Print the shapes of these three arrays."
   ]
  },
  {
   "cell_type": "code",
   "execution_count": 15,
   "metadata": {},
   "outputs": [
    {
     "name": "stdout",
     "output_type": "stream",
     "text": [
      "(467, 3)\n",
      "(467, 2)\n",
      "(467,)\n",
      "\n",
      "[[ 15.69        -0.771      550.8804586 ]\n",
      " [-16.81         1.959      588.52380145]\n",
      " [ 21.09        -1.55       660.8818341 ]]\n"
     ]
    }
   ],
   "source": [
    "X_num = df.iloc[0:,[0,1,2]].values\n",
    "X_cat = df.iloc[0:,[3,4]].values.astype('str')\n",
    "y = df.iloc[0:,-1].values\n",
    "\n",
    "print(X_num.shape)\n",
    "print(X_cat.shape)\n",
    "print(y.shape)\n",
    "print()\n",
    "print(X_num[0:3,])"
   ]
  },
  {
   "cell_type": "markdown",
   "metadata": {},
   "source": [
    "#### Numerical Features\n",
    "Split `Xnum` into training and validation sets called `X_num_train` and `X_num_val`. Use an 80/20 split, and set `random_state=1`. \n",
    "\n",
    "Then use the `StandardScaler` class to scale the numerical data. Name the resulting arrays `X_sca_train` and `X_sca_val`. Print the shape of these two arrays. "
   ]
  },
  {
   "cell_type": "code",
   "execution_count": 18,
   "metadata": {},
   "outputs": [
    {
     "name": "stdout",
     "output_type": "stream",
     "text": [
      "(373, 3)\n",
      "(94, 3)\n"
     ]
    },
    {
     "data": {
      "text/plain": [
       "array([[-1.34790978, -0.85473365, -0.03279194],\n",
       "       [-0.70984609, -0.4799912 ,  0.9331761 ],\n",
       "       [-0.98459949,  1.88147176,  2.06401676]])"
      ]
     },
     "execution_count": 18,
     "metadata": {},
     "output_type": "execute_result"
    }
   ],
   "source": [
    "X_num_train, X_num_val, y_train, y_val = train_test_split(X_num, y, test_size=0.20, random_state=1)\n",
    "\n",
    "data_scaler = StandardScaler()\n",
    "\n",
    "X_sca_train = data_scaler.fit_transform(X_num_train)\n",
    "X_sca_val = data_scaler.fit_transform(X_num_val)\n",
    "\n",
    "print(X_sca_train.shape)\n",
    "print(X_sca_val.shape)\n",
    "X_sca_train[0:3,]"
   ]
  },
  {
   "cell_type": "markdown",
   "metadata": {},
   "source": [
    "#### Categorical Features\n",
    "\n",
    "Use the `OneHotEncoder` class to encode the categorical feature array (setting `sparse=False`). Store the results in an array called `X_enc`. \n",
    "\n",
    "Split `X_enc` into training and validation sets called `X_enc_train` and `X_enc_val`. Use an 80/20 split, and set `random_state=1`. Print the shapes of these two arrays."
   ]
  },
  {
   "cell_type": "code",
   "execution_count": 26,
   "metadata": {},
   "outputs": [
    {
     "name": "stdout",
     "output_type": "stream",
     "text": [
      "[[1. 0. 0. 0. 0. 1.]\n",
      " [0. 1. 0. 0. 1. 0.]]\n",
      "(373, 6)\n",
      "(94, 6)\n"
     ]
    }
   ],
   "source": [
    "X_cat_encoder = OneHotEncoder(sparse=False)\n",
    "\n",
    "X_enc = X_cat_encoder.fit_transform(X_cat)\n",
    "\n",
    "X_enc_train, X_enc_val, y_train, y_val = train_test_split(X_enc, y, test_size=0.20, random_state=1)\n",
    "\n",
    "print(X_enc[0:2,])\n",
    "print(X_enc_train.shape)\n",
    "print(X_enc_val.shape)\n"
   ]
  },
  {
   "cell_type": "markdown",
   "metadata": {},
   "source": [
    "#### Combine Numerical and Categorial Features\n",
    "\n",
    "Use `np.hstack()` to combine `X_sca_train` and `X_enc_train` into an array called `X_train`. Then combine `X_sca_val` and `X_enc_val` into an array called `X_val`. Print the shapes of the two new arrays."
   ]
  },
  {
   "cell_type": "code",
   "execution_count": 30,
   "metadata": {},
   "outputs": [
    {
     "name": "stdout",
     "output_type": "stream",
     "text": [
      "(373, 9)\n",
      "(94, 9)\n"
     ]
    }
   ],
   "source": [
    "X_num_train = np.hstack([X_sca_train, X_enc_train])\n",
    "X_num_val = np.hstack([X_sca_val, X_enc_val])\n",
    "\n",
    "print(X_num_train.shape)\n",
    "print(X_num_val.shape)"
   ]
  },
  {
   "cell_type": "markdown",
   "metadata": {},
   "source": [
    "## Part C: Logistic Regression Model\n",
    "\n",
    "In the cell below, create and fit several logistic regression models, each with a different value for the regularization parameter `C`. In particular, consider 100 models with `C=10**k`, where `k` ranges from -4 to 0. For each model, log the training and validation accuracies in separate lists, and then plot these lists against `k`. Display a legend for your plot. \n",
    "\n",
    "Set `solver='lbfgs'` and `multi_class='ovr'` when creating your logistic regression models. "
   ]
  },
  {
   "cell_type": "code",
   "execution_count": 63,
   "metadata": {},
   "outputs": [
    {
     "data": {
      "image/png": "[encoded data removed]",
      "text/plain": [
       "<Figure size 432x288 with 1 Axes>"
      ]
     },
     "metadata": {
      "needs_background": "light"
     },
     "output_type": "display_data"
    }
   ],
   "source": [
    "tr_acc = []\n",
    "val_acc = []\n",
    "\n",
    "exp_list = np.linspace(-4, 0,100)\n",
    "\n",
    "for k in exp_list:\n",
    "    LR_model_temp = LogisticRegression(solver='lbfgs', C=10**k, multi_class='ovr')\n",
    "    LR_model_temp.fit(X_num_train, y_train)\n",
    "    tr_acc.append(LR_model_temp.score(X_num_train, y_train))\n",
    "    val_acc.append(LR_model_temp.score(X_num_val, y_val))\n",
    "    \n",
    "plt.figure(figsize=([6,4]))\n",
    "plt.plot(exp_list, tr_acc, label='Training Accuracy')\n",
    "plt.plot(exp_list, val_acc, label='Validation Accuracy')\n",
    "plt.xlabel('Log(C)')\n",
    "plt.ylabel('Accuracy')\n",
    "plt.legend()\n",
    "plt.show()"
   ]
  },
  {
   "cell_type": "markdown",
   "metadata": {},
   "source": [
    "Use `np.argmax` to find the value of `k` that results in the largest validation accuracy. Print this result."
   ]
  },
  {
   "cell_type": "code",
   "execution_count": 64,
   "metadata": {},
   "outputs": [
    {
     "name": "stdout",
     "output_type": "stream",
     "text": [
      "-2.141414141414141\n"
     ]
    }
   ],
   "source": [
    "max_val_index = np.argmax(val_acc)\n",
    "best_logC = exp_list[max_val_index]\n",
    "print(best_logC)"
   ]
  },
  {
   "cell_type": "markdown",
   "metadata": {},
   "source": [
    "Create a logistic regression model using the previously determined value for the regularization parameter. Print the training and validation accuracies for this model, clearly indicating which is which."
   ]
  },
  {
   "cell_type": "code",
   "execution_count": 70,
   "metadata": {},
   "outputs": [
    {
     "name": "stdout",
     "output_type": "stream",
     "text": [
      "This is Logistic Regression training accuracy: 0.4075067024128686\n",
      "This is Logistic Regression validation accuracy: 0.3829787234042553\n"
     ]
    }
   ],
   "source": [
    "LR_model = LogisticRegression(solver='lbfgs', C=10**best_logC, multi_class='ovr')\n",
    "\n",
    "LR_model.fit(X_num_train, y_train)\n",
    "\n",
    "print('This is Logistic Regression training accuracy:', LR_model.score(X_num_train, y_train))\n",
    "print('This is Logistic Regression validation accuracy:', LR_model.score(X_num_val, y_val))"
   ]
  },
  {
   "cell_type": "markdown",
   "metadata": {},
   "source": [
    "## Part D: Decision Tree Model\n",
    "\n",
    "In the cell below, create and fit several decision tree models, each with a different value for the `max_depth` parameter. In particular, consider models for every value of max_depth from 1 to 20. For each model, log the training and validation accuracies in separate lists, and then plot these lists against the max depth. Display a legend for your plot. \n",
    "\n",
    "Set a seed of 1 prior to training each of your models. This should be inside of your loop. "
   ]
  },
  {
   "cell_type": "code",
   "execution_count": 88,
   "metadata": {},
   "outputs": [
    {
     "data": {
      "image/png": "[encoded data removed]",
      "text/plain": [
       "<Figure size 432x288 with 1 Axes>"
      ]
     },
     "metadata": {
      "needs_background": "light"
     },
     "output_type": "display_data"
    }
   ],
   "source": [
    "tr_acc = []\n",
    "val_acc = []\n",
    "depth_list = range(1,20)\n",
    "\n",
    "\n",
    "for k in depth_list:\n",
    "    np.random.seed(1)\n",
    "    DT_model_temp = DecisionTreeClassifier(max_depth = k)\n",
    "    DT_model_temp.fit(X_num_train, y_train)\n",
    "    tr_acc.append(DT_model_temp.score(X_num_train, y_train))\n",
    "    val_acc.append(DT_model_temp.score(X_num_val, y_val))\n",
    "    \n",
    "plt.figure(figsize=([6,4]))\n",
    "plt.plot(depth_list, tr_acc, label='Training Accuracy')\n",
    "plt.plot(depth_list, val_acc, label='Validation Accuracy')\n",
    "plt.xlabel('Max Depth')\n",
    "plt.ylabel('Accuracy')\n",
    "plt.legend()\n",
    "plt.show()"
   ]
  },
  {
   "cell_type": "markdown",
   "metadata": {},
   "source": [
    "Use `np.argmax` to find the value of `max_depth` that results in the largest validation accuracy. Print this result. "
   ]
  },
  {
   "cell_type": "code",
   "execution_count": 92,
   "metadata": {},
   "outputs": [
    {
     "name": "stdout",
     "output_type": "stream",
     "text": [
      "8\n"
     ]
    }
   ],
   "source": [
    "max_val_index = np.argmax(val_acc)\n",
    "max_depth = depth_list[max_val_index]\n",
    "print(max_depth)\n"
   ]
  },
  {
   "cell_type": "markdown",
   "metadata": {},
   "source": [
    "Create a tree model using the previously determined value of `max_depth`. Print the training and validation accuracies for this model, clearly indicating which is which.\n",
    "\n",
    "Set a seed of 1 at the beginning of this cell."
   ]
  },
  {
   "cell_type": "code",
   "execution_count": 98,
   "metadata": {},
   "outputs": [
    {
     "name": "stdout",
     "output_type": "stream",
     "text": [
      "This is Decision Tree training accuracy: 0.9249329758713136\n",
      "This is Decision Tree validation accuracy: 0.8191489361702128\n"
     ]
    }
   ],
   "source": [
    "np.random.seed(1)\n",
    "DT_model = DecisionTreeClassifier(max_depth=max_depth)\n",
    "\n",
    "DT_model.fit(X_num_train, y_train)\n",
    "\n",
    "print('This is Decision Tree training accuracy:', DT_model.score(X_num_train, y_train))\n",
    "print('This is Decision Tree validation accuracy:', DT_model.score(X_num_val, y_val))"
   ]
  },
  {
   "cell_type": "markdown",
   "metadata": {},
   "source": [
    "## Part E: Random Forest Model\n",
    "\n",
    "In the cell below, create and fit several random forest models, each with a different value for the `max_depth` parameter. In particular, consider models for every value of max_depth from 1 to 20. Set `n_estimators=200` for each model. After training each model, log the training and validation accuracies in seperate lists, and then plot these lists against the max depth. Label your axes, and display a legend for your plot. \n",
    "\n",
    "Set a seed of 1 prior to training each of your models. This should be inside of your loop. "
   ]
  },
  {
   "cell_type": "code",
   "execution_count": 131,
   "metadata": {},
   "outputs": [
    {
     "data": {
      "image/png": "[encoded data removed]",
      "text/plain": [
       "<Figure size 432x288 with 1 Axes>"
      ]
     },
     "metadata": {
      "needs_background": "light"
     },
     "output_type": "display_data"
    }
   ],
   "source": [
    "tr_acc = []\n",
    "val_acc = []\n",
    "depth_list = range(1, 20)\n",
    "    \n",
    "for k in depth_list:\n",
    "    np.random.seed(1)\n",
    "    RF_model_temp = RandomForestClassifier(n_estimators=200, max_depth=k, bootstrap=True, oob_score=True)\n",
    "    RF_model_temp.fit(X_num_train, y_train)\n",
    "    tr_acc.append(RF_model_temp.score(X_num_train, y_train))\n",
    "    val_acc.append(RF_model_temp.score(X_num_val, y_val))\n",
    "    \n",
    "plt.figure(figsize=([6,4]))\n",
    "plt.plot(depth_list, tr_acc, label='Training Accuracy')\n",
    "plt.plot(depth_list, val_acc, label='Accuracy')\n",
    "plt.xlabel('Max Depth')\n",
    "plt.ylabel('Accuracy')\n",
    "plt.legend()\n",
    "plt.show()\n",
    "    "
   ]
  },
  {
   "cell_type": "markdown",
   "metadata": {},
   "source": [
    "Use `np.argmax` to find the value of `max_depth` that results in the largest validation accuracy. Print this result. "
   ]
  },
  {
   "cell_type": "code",
   "execution_count": 133,
   "metadata": {},
   "outputs": [
    {
     "name": "stdout",
     "output_type": "stream",
     "text": [
      "5\n"
     ]
    }
   ],
   "source": [
    "val_max_index = np.argmax(val_acc)\n",
    "max_X_zero = depth_list[val_max_index]\n",
    "print(max_X_zero)"
   ]
  },
  {
   "cell_type": "markdown",
   "metadata": {},
   "source": [
    "Create a random forest model using the previously determined value of `max_depth` and `n_estimators=200`. Print the training and validation accuracies for this model, clearly indicating which is which.\n",
    "\n",
    "Set a seed of 1 at the beginning of this cell."
   ]
  },
  {
   "cell_type": "code",
   "execution_count": 141,
   "metadata": {},
   "outputs": [
    {
     "name": "stdout",
     "output_type": "stream",
     "text": [
      "This is Random Forest Training Accuracy: 0.9624664879356568\n",
      "This is Random Forest Validation Accuracy: 0.9148936170212766\n",
      "This is Out of Bag score: 0.9222520107238605\n"
     ]
    }
   ],
   "source": [
    "np.random.seed(1)\n",
    "RF_model = RandomForestClassifier(max_depth=max_X_zero, n_estimators = 200, bootstrap=True, oob_score=True)\n",
    "\n",
    "RF_model.fit(X_num_train, y_train)\n",
    "\n",
    "print('This is Random Forest Training Accuracy:', RF_model.score(X_num_train, y_train))\n",
    "print('This is Random Forest Validation Accuracy:', RF_model.score(X_num_val, y_val))\n",
    "print('This is Out of Bag score:', RF_model.oob_score_)"
   ]
  },
  {
   "cell_type": "code",
   "execution_count": 142,
   "metadata": {},
   "outputs": [
    {
     "name": "stdout",
     "output_type": "stream",
     "text": [
      "This is Accuracy for the Logistic Regression Model: 0.3829787234042553\n",
      "This is Accuracy for the Decision Tree Model: 0.8191489361702128\n",
      "This is Accuracy for the Random Forest Model: 0.9148936170212766\n"
     ]
    }
   ],
   "source": [
    "print('This is Accuracy for the Logistic Regression Model:', LR_model.score(X_num_val, y_val)) \n",
    "print('This is Accuracy for the Decision Tree Model:', DT_model.score(X_num_val, y_val)) \n",
    "print('This is Accuracy for the Random Forest Model:', RF_model.score(X_num_val, y_val))"
   ]
  },
  {
   "cell_type": "markdown",
   "metadata": {},
   "source": [
    "## Part F: Summary\n",
    "\n",
    "Print the validation accuracies for each of the three models, clearly indicating which is which. "
   ]
  },
  {
   "cell_type": "markdown",
   "metadata": {},
   "source": [
    "print('This is Accuracy for the Logistic Regression Model:', LR_model.score(X_num_val, y_val))\n",
    "print('This is Accuracy for the Decision Tree Model:', DT_model.score(X_num_val, y_val))\n",
    "print('This is Accuracy for the Random Forest Model:', RF_model.score(X_num_val, y_val))"
   ]
  }
 ],
 "metadata": {
  "kernelspec": {
   "display_name": "Python 3",
   "language": "python",
   "name": "python3"
  },
  "language_info": {
   "codemirror_mode": {
    "name": "ipython",
    "version": 3
   },
   "file_extension": ".py",
   "mimetype": "text/x-python",
   "name": "python",
   "nbconvert_exporter": "python",
   "pygments_lexer": "ipython3",
   "version": "3.8.5"
  }
 },
 "nbformat": 4,
 "nbformat_minor": 2
}
